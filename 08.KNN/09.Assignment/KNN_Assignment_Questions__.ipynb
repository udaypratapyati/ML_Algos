{
 "cells": [
  {
   "cell_type": "markdown",
   "metadata": {},
   "source": [
    "<img src=\"https://github.com/insaid2018/Term-1/blob/master/Images/INSAID_Full%20Logo.png?raw=true\" width=\"240\" height=\"360\" />\n",
    "\n",
    "# ASSIGNMENT\n",
    "## Diabetes Dataset"
   ]
  },
  {
   "cell_type": "markdown",
   "metadata": {},
   "source": [
    "__Context__<br/>\n",
    "- This dataset is originally from the National Institute of Diabetes and Digestive and Kidney Diseases. <br/>\n",
    "- The objective of the dataset is to diagnostically predict whether or not a patient has diabetes, based on certain diagnostic measurements included in the dataset. Several constraints were placed on the selection of these instances from a larger database. In particular, all patients here are females at least 21 years old of Pima Indian heritage.\n",
    "\n",
    "__Content__<br/>\n",
    "- The datasets consists of several medical predictor variables and one target variable, Outcome. Predictor variables includes the number of pregnancies the patient has had, their BMI, insulin level, age, and so on."
   ]
  },
  {
   "cell_type": "markdown",
   "metadata": {},
   "source": [
    "### Import the dataset"
   ]
  },
  {
   "cell_type": "code",
   "execution_count": null,
   "metadata": {
    "colab": {
     "base_uri": "https://localhost:8080/",
     "height": 256
    },
    "colab_type": "code",
    "id": "hj8UmUJeU8tO",
    "outputId": "f18d948e-e1f4-4f7f-c39d-7fe2b00669ba"
   },
   "outputs": [],
   "source": [
    "import pandas as pd\n",
    "diabetes = pd.read_csv('https://raw.githubusercontent.com/insaid2018/Term-3/master/Data/Assignment/diabetes.csv')\n",
    "diabetes.head()"
   ]
  },
  {
   "cell_type": "markdown",
   "metadata": {},
   "source": [
    "### Check the shape of the dataset"
   ]
  },
  {
   "cell_type": "code",
   "execution_count": null,
   "metadata": {
    "colab": {
     "base_uri": "https://localhost:8080/",
     "height": 35
    },
    "colab_type": "code",
    "id": "r-NdDTW3ylAu",
    "outputId": "10d13550-82db-406c-f6bb-ad0dc2474be1"
   },
   "outputs": [],
   "source": [
    "diabetes.shape"
   ]
  },
  {
   "cell_type": "markdown",
   "metadata": {},
   "source": [
    "### Check the columns present in the dataset"
   ]
  },
  {
   "cell_type": "code",
   "execution_count": null,
   "metadata": {
    "colab": {},
    "colab_type": "code",
    "id": "fzrXmgB6yrnK"
   },
   "outputs": [],
   "source": [
    "diabetes.columns"
   ]
  },
  {
   "cell_type": "markdown",
   "metadata": {},
   "source": [
    "### Count of 0 and 1 from the diabetes variable."
   ]
  },
  {
   "cell_type": "code",
   "execution_count": null,
   "metadata": {},
   "outputs": [],
   "source": [
    "diabetes.Outcome.value_counts()"
   ]
  },
  {
   "cell_type": "markdown",
   "metadata": {},
   "source": [
    "### Check the descriptive statisticss of the dataset"
   ]
  },
  {
   "cell_type": "code",
   "execution_count": null,
   "metadata": {},
   "outputs": [],
   "source": [
    "diabetes.describe()"
   ]
  },
  {
   "cell_type": "markdown",
   "metadata": {},
   "source": [
    "### Check the info of the dataset"
   ]
  },
  {
   "cell_type": "code",
   "execution_count": null,
   "metadata": {},
   "outputs": [],
   "source": [
    "diabetes.info()"
   ]
  },
  {
   "cell_type": "markdown",
   "metadata": {},
   "source": [
    "### Q 1. Write a code to check the missing values present in the dataset. "
   ]
  },
  {
   "cell_type": "code",
   "execution_count": null,
   "metadata": {},
   "outputs": [],
   "source": [
    "def generate():\n",
    "    return # your code to know if there is any missing value or not\n",
    "generate()"
   ]
  },
  {
   "cell_type": "markdown",
   "metadata": {},
   "source": [
    "### Q 2. Extract the dependent variables to create a dataframe X."
   ]
  },
  {
   "cell_type": "code",
   "execution_count": null,
   "metadata": {},
   "outputs": [],
   "source": [
    "X = pd.DataFrame()\n",
    "def generate():\n",
    "    # write your code to create a dataframe of dependent variables excluding 'Outcome' variable\n",
    "    return X\n",
    "X = generate()"
   ]
  },
  {
   "cell_type": "code",
   "execution_count": null,
   "metadata": {},
   "outputs": [],
   "source": [
    "X.head()"
   ]
  },
  {
   "cell_type": "markdown",
   "metadata": {},
   "source": [
    "### Q 3. Extract the independent variable into a dataframe 'y' for model prediction."
   ]
  },
  {
   "cell_type": "code",
   "execution_count": null,
   "metadata": {},
   "outputs": [],
   "source": [
    "y = pd.DataFrame()\n",
    "def generate():\n",
    "    # write your code to create a dataframe which consists only of dependepent variable\n",
    "    return y\n",
    "y = generate()"
   ]
  },
  {
   "cell_type": "markdown",
   "metadata": {},
   "source": [
    "### Q 4. Use StandardScaler to normalize X"
   ]
  },
  {
   "cell_type": "code",
   "execution_count": null,
   "metadata": {},
   "outputs": [],
   "source": [
    "from sklearn.preprocessing import StandardScaler\n",
    "def generate():\n",
    "    # Your code here\n",
    "    return #standardized X\n",
    "X = generate()"
   ]
  },
  {
   "cell_type": "markdown",
   "metadata": {},
   "source": [
    "### Q 5. Split X and y into train and test dataset using random_state = 0 and test_size as 0.25."
   ]
  },
  {
   "cell_type": "code",
   "execution_count": null,
   "metadata": {},
   "outputs": [],
   "source": [
    "from sklearn.model_selection import train_test_split\n",
    "def generate():\n",
    "    return # train test split using train_test_split of 75:25 and random state=0\n",
    "X_train, X_test, y_train, y_test = generate()"
   ]
  },
  {
   "cell_type": "markdown",
   "metadata": {},
   "source": [
    "### Q 5.1 Check the shape of X and y of train dataset"
   ]
  },
  {
   "cell_type": "code",
   "execution_count": null,
   "metadata": {},
   "outputs": [],
   "source": [
    "def generate():\n",
    "    # your code here\n",
    "    return\n",
    "generate()"
   ]
  },
  {
   "cell_type": "markdown",
   "metadata": {},
   "source": [
    "### Q 5.2 Check the shape of X and y of test dataset"
   ]
  },
  {
   "cell_type": "code",
   "execution_count": null,
   "metadata": {},
   "outputs": [],
   "source": [
    "def generate():\n",
    "    # your code here\n",
    "    return\n",
    "generate()"
   ]
  },
  {
   "cell_type": "markdown",
   "metadata": {},
   "source": [
    "### Q 6. Create a KNN model instance with n_neighbors = 1 and fit this model to the training data."
   ]
  },
  {
   "cell_type": "code",
   "execution_count": null,
   "metadata": {},
   "outputs": [],
   "source": [
    "from sklearn.neighbors import KNeighborsClassifier\n",
    "def generate():\n",
    "    #Your code here\n",
    "    return knn_model1\n",
    "knn_model1 = generate()"
   ]
  },
  {
   "cell_type": "markdown",
   "metadata": {},
   "source": [
    "### Q 7. Use RandomizedSearchCV  for hyperparameter tuning of your k nearest neighbor classifier. Keep n_iter as 25, random_state = 0 and  for the parameter range use the below ranges:\n",
    "- \"n_neighbors\": range(1,30),                               \n",
    "- \"algorithm\" : [\"auto\", \"ball_tree\"],\n",
    "- \"leaf_size\" :  2 ** np.arange(10),\n",
    "- \"metric\" : [\"euclidean\",\"manhattan\",\"minkowski\",\"chebyshev\"]"
   ]
  },
  {
   "cell_type": "code",
   "execution_count": null,
   "metadata": {},
   "outputs": [],
   "source": [
    "from sklearn.model_selection import RandomizedSearchCV\n",
    "from scipy.stats import randint as sp_randint\n",
    "import numpy as np\n",
    "\n",
    "def generate():\n",
    "    # your code here\n",
    "    \n",
    "    return # your variable for RandomizedSearchCV model\n",
    "knn_model2 = generate()\n",
    "knn_model2.fit(X_train,y_train)"
   ]
  },
  {
   "cell_type": "markdown",
   "metadata": {},
   "source": [
    "### Q 8.  To pick a good K Value create a for loop that trains various KNN models with different k values, then keep track of the accuracy_score for each of these models with a list. Also print out the maximum value of accuracy and the K for which it occurs. "
   ]
  },
  {
   "cell_type": "code",
   "execution_count": null,
   "metadata": {},
   "outputs": [],
   "source": [
    "import numpy as np\n",
    "from sklearn.metrics import accuracy_score\n",
    "accuracy_list = []\n",
    "def generate():\n",
    "    # your code here\n",
    "    return\n",
    "generate()"
   ]
  },
  {
   "cell_type": "markdown",
   "metadata": {},
   "source": [
    "### Q 9.  Plot Accuracy of model at various k values and find the best value of k."
   ]
  },
  {
   "cell_type": "code",
   "execution_count": null,
   "metadata": {},
   "outputs": [],
   "source": [
    "import matplotlib.pyplot as plt\n",
    "%matplotlib inline\n",
    "def generate():\n",
    "    # your code here\n",
    "    return\n",
    "generate()"
   ]
  },
  {
   "cell_type": "markdown",
   "metadata": {},
   "source": [
    "### Q 10. Create KNN model instance with n_neighbors = 8 and fit this model to the training data."
   ]
  },
  {
   "cell_type": "code",
   "execution_count": null,
   "metadata": {},
   "outputs": [],
   "source": [
    "from sklearn.neighbors import KNeighborsClassifier\n",
    "def generate():\n",
    "    # your code here\n",
    "    return knn_model3\n",
    "knn_model3 = generate()"
   ]
  },
  {
   "cell_type": "markdown",
   "metadata": {},
   "source": [
    "### Q 11. Instantitate and fit Logistic Regression model using scikit-learn with random_state = 0"
   ]
  },
  {
   "cell_type": "code",
   "execution_count": null,
   "metadata": {},
   "outputs": [],
   "source": [
    "from sklearn.linear_model import LogisticRegression\n",
    "def generate():\n",
    "    # your code here\n",
    "    return logreg\n",
    "logreg = generate()"
   ]
  },
  {
   "cell_type": "markdown",
   "metadata": {},
   "source": [
    "### Q 12. Use the models for predictions"
   ]
  },
  {
   "cell_type": "code",
   "execution_count": null,
   "metadata": {},
   "outputs": [],
   "source": [
    "predictions_knn_model1 = pd.DataFrame()\n",
    "predictions_knn_model2 = pd.DataFrame()\n",
    "predictions_knn_model3 = pd.DataFrame()\n",
    "predictions_logreg = pd.DataFrame()\n",
    "def generate():\n",
    "    # your code here\n",
    "    return predictions_knn_model1,predictions_knn_model2,predictions_knn_model3,predictions_logreg\n",
    "predictions_knn_model1,predictions_knn_model2,predictions_knn_model3,predictions_logreg = generate()"
   ]
  },
  {
   "cell_type": "markdown",
   "metadata": {},
   "source": [
    "### Q 13. Evaluate all the models using accuracy score and print them out."
   ]
  },
  {
   "cell_type": "code",
   "execution_count": null,
   "metadata": {},
   "outputs": [],
   "source": [
    "from sklearn.metrics import accuracy_score\n",
    "def generate():\n",
    "    # your code here\n",
    "    return \n",
    "generate()"
   ]
  },
  {
   "cell_type": "markdown",
   "metadata": {
    "colab_type": "text",
    "id": "98sOG1W4U8qB"
   },
   "source": [
    "### Q 14. Evaluate all the models using confusion matrix and print them out."
   ]
  },
  {
   "cell_type": "code",
   "execution_count": null,
   "metadata": {
    "colab": {
     "base_uri": "https://localhost:8080/",
     "height": 54
    },
    "colab_type": "code",
    "id": "Sm7EqIBB_BhK",
    "outputId": "13c3b55e-8869-4813-869b-3c17d87c72b6"
   },
   "outputs": [],
   "source": [
    "from sklearn.metrics import confusion_matrix\n",
    "matrix_knn_model1 = pd.DataFrame()\n",
    "matrix_knn_model2 = pd.DataFrame()\n",
    "matrix_knn_model3 = pd.DataFrame()\n",
    "matrix_logreg = pd.DataFrame()\n",
    "def generate():\n",
    "    #your code here\n",
    "    return \n",
    "generate()"
   ]
  },
  {
   "cell_type": "markdown",
   "metadata": {
    "colab_type": "text",
    "id": "98sOG1W4U8qB"
   },
   "source": [
    "### Q 15. Evaluate all the models using classification matrix and print them out."
   ]
  },
  {
   "cell_type": "code",
   "execution_count": null,
   "metadata": {},
   "outputs": [],
   "source": [
    "from sklearn.metrics import classification_report\n",
    "def generate():\n",
    "    #your code here\n",
    "    return\n",
    "generate()"
   ]
  }
 ],
 "metadata": {
  "kernelspec": {
   "display_name": "Python 3",
   "language": "python",
   "name": "python3"
  },
  "language_info": {
   "codemirror_mode": {
    "name": "ipython",
    "version": 3
   },
   "file_extension": ".py",
   "mimetype": "text/x-python",
   "name": "python",
   "nbconvert_exporter": "python",
   "pygments_lexer": "ipython3",
   "version": "3.6.5"
  }
 },
 "nbformat": 4,
 "nbformat_minor": 2
}
