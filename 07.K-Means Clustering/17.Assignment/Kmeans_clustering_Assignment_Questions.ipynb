{
 "cells": [
  {
   "cell_type": "markdown",
   "metadata": {},
   "source": [
    "<img src=\"https://github.com/insaid2018/Term-1/blob/master/Images/INSAID_Full%20Logo.png?raw=true\" width=\"240\" height=\"360\" />\n",
    "\n",
    "# ASSIGNMENT\n",
    "## Customer Segmentation Dataset"
   ]
  },
  {
   "cell_type": "markdown",
   "metadata": {},
   "source": [
    "__Context__<br/>\n",
    "- In today's competitive world, it is crucial to understand customer bahaviour and categorise customers based on their demography and buying behaviour. This is broadly one aspect of customer segmentation that allows marketers to better tailor their marketing efforts to various audience subsets in terms of promotional, marketing and product development strategies.\n",
    "\n",
    "__Objective__<br/>\n",
    "- This assignment demonstrates the concept of segmentation of a customer dataset from an e-commerce site using k-means clustering in python. You will use the kmeans and the hierarchical clustering algorithms to derive the optimum number of clusters and understand the underlying customer segments based on the data provided.\n",
    "\n",
    "__About the dataset__<br/>\n",
    "- The dataset consists of Annual income (in `$`000) and their annual spend (in `$`000) on an e-commerce site for a period of one year. Let us explore the data using numpy and pandas libraries in python."
   ]
  },
  {
   "cell_type": "markdown",
   "metadata": {},
   "source": [
    "### Import the dataset"
   ]
  },
  {
   "cell_type": "code",
   "execution_count": null,
   "metadata": {},
   "outputs": [],
   "source": [
    "import pandas as pd\n",
    "dataset= pd.read_csv('https://raw.githubusercontent.com/insaid2018/Term-3/master/Data/Assignment/CLV.csv')\n",
    "dataset.head()"
   ]
  },
  {
   "cell_type": "code",
   "execution_count": null,
   "metadata": {},
   "outputs": [],
   "source": [
    "import matplotlib.pyplot as plt\n",
    "% matplotlib inline\n",
    "dataset.mean().plot(kind='bar')\n"
   ]
  },
  {
   "cell_type": "markdown",
   "metadata": {},
   "source": [
    "### Check the shape of the dataset"
   ]
  },
  {
   "cell_type": "code",
   "execution_count": null,
   "metadata": {
    "colab": {
     "base_uri": "https://localhost:8080/",
     "height": 35
    },
    "colab_type": "code",
    "id": "r-NdDTW3ylAu",
    "outputId": "10d13550-82db-406c-f6bb-ad0dc2474be1"
   },
   "outputs": [],
   "source": [
    "dataset.shape"
   ]
  },
  {
   "cell_type": "markdown",
   "metadata": {},
   "source": [
    "### Check the columns present in the dataset"
   ]
  },
  {
   "cell_type": "code",
   "execution_count": null,
   "metadata": {
    "colab": {},
    "colab_type": "code",
    "id": "fzrXmgB6yrnK"
   },
   "outputs": [],
   "source": [
    "dataset.columns"
   ]
  },
  {
   "cell_type": "markdown",
   "metadata": {},
   "source": [
    "### Check the descriptive statistics of the dataset"
   ]
  },
  {
   "cell_type": "code",
   "execution_count": null,
   "metadata": {},
   "outputs": [],
   "source": [
    "dataset.describe().transpose()"
   ]
  },
  {
   "cell_type": "markdown",
   "metadata": {},
   "source": [
    "The mean annual income is `$`245000 and the mean annual spend is `$`149000. "
   ]
  },
  {
   "cell_type": "markdown",
   "metadata": {},
   "source": [
    "### Check the info of the dataset"
   ]
  },
  {
   "cell_type": "code",
   "execution_count": null,
   "metadata": {},
   "outputs": [],
   "source": [
    "dataset.info()"
   ]
  },
  {
   "cell_type": "markdown",
   "metadata": {},
   "source": [
    "### Q 1. Write a code to check the missing values present in the dataset. "
   ]
  },
  {
   "cell_type": "code",
   "execution_count": null,
   "metadata": {},
   "outputs": [],
   "source": [
    "def generate():\n",
    "    return # Your variable to return\n",
    "generate()"
   ]
  },
  {
   "cell_type": "markdown",
   "metadata": {},
   "source": [
    "### Q 2. Illustrate the distribution of the annual income and annual spend with a distplot."
   ]
  },
  {
   "cell_type": "code",
   "execution_count": null,
   "metadata": {},
   "outputs": [],
   "source": [
    "import seaborn as sns\n",
    "import matplotlib.pyplot as plt\n",
    "def generate():\n",
    "    # Your code here\n",
    "generate()"
   ]
  },
  {
   "cell_type": "markdown",
   "metadata": {},
   "source": [
    "### Q 3. Illustrate the distribution of the annual income and annual spend with Violinplot."
   ]
  },
  {
   "cell_type": "code",
   "execution_count": null,
   "metadata": {},
   "outputs": [],
   "source": [
    "def generate():\n",
    "    # Your code here\n",
    "generate()"
   ]
  },
  {
   "cell_type": "markdown",
   "metadata": {},
   "source": [
    "### Q 4. Draw scatter plot of Spend versus Income to understand the spread, use color as black and size of marker as 100."
   ]
  },
  {
   "cell_type": "code",
   "execution_count": null,
   "metadata": {},
   "outputs": [],
   "source": [
    "def generate():\n",
    "    # Your code here\n",
    "    return\n",
    "generate()"
   ]
  },
  {
   "cell_type": "markdown",
   "metadata": {},
   "source": [
    "__Plotting in 3D space__"
   ]
  },
  {
   "cell_type": "code",
   "execution_count": null,
   "metadata": {},
   "outputs": [],
   "source": [
    "from mpl_toolkits.mplot3d import Axes3D\n",
    "import numpy as np\n",
    "\n",
    "fig = plt.figure()\n",
    "ax = Axes3D(fig)\n",
    "\n",
    "X = np.array(list(zip(dataset['INCOME'], dataset['SPEND'])))\n",
    "ax.scatter(X[:, 0], X[:, 1])"
   ]
  },
  {
   "cell_type": "markdown",
   "metadata": {},
   "source": [
    "### Q 5 . Make a kmeans model to cluster the samples in 4 clusters taking the below parameters:\n",
    "- init='k-means++',\n",
    "- max_iter=300, \n",
    "- n_init=10,\n",
    "- random_state=0\n",
    "\n",
    "### Return the model.\n",
    "\n",
    "\n",
    "### Also Compute cluster centers and predict cluster index for each sample using fit_predict method(Return this variable also)"
   ]
  },
  {
   "cell_type": "code",
   "execution_count": null,
   "metadata": {},
   "outputs": [],
   "source": [
    "from sklearn.cluster import KMeans\n",
    "def generate():\n",
    "    # Your code here\n",
    "    return # your variables here\n",
    "km4, y_means = generate()"
   ]
  },
  {
   "cell_type": "markdown",
   "metadata": {},
   "source": [
    "### Q 6. Visulaize the clusters using scatter plot (Spend Vs Income). Taking marker size as 50, color for clusters 1 to 4 as purple, blue, green & cyan, label for various clusters as 'Cluster1', 'Cluster2', 'Cluster3', 'Cluster4'. For the cluster centres use marker = 's', marker size as 200 and color as red, alpha blending value as 0.7 and label as 'Centroids'. Title of the plot should be ' Customer segments '.Set \"Annual income of customer\" as label of x axis and \"Annual spend from customer on site\" as label of y axis. "
   ]
  },
  {
   "cell_type": "code",
   "execution_count": null,
   "metadata": {},
   "outputs": [],
   "source": [
    "def generate():\n",
    "    # your code here\n",
    "    return \n",
    "generate()"
   ]
  },
  {
   "cell_type": "markdown",
   "metadata": {},
   "source": []
  },
  {
   "cell_type": "markdown",
   "metadata": {},
   "source": [
    "__Interpretation of the 4 segments created__<br/>\n",
    "\n",
    "The plot shows the distribution of the 4 clusters. We could interpret them as the following customer segments:\n",
    "\n",
    "- __Cluster 1__: Customers with medium annual income and low annual spend\n",
    "- __Cluster 2__: Customers with high annual income and medium to high annual spend\n",
    "- __Cluster 3__: Customers with low annual income\n",
    "- __Cluster 4__: Customers with medium annual income but high annual spend\n",
    "\n",
    "__Cluster 4__ straight away is one __potential customer segment__. However, Cluster 2 and 3 can be segmented further to arrive at a more specific target customer group. Let us now look at how the clusters are created when k=6:"
   ]
  },
  {
   "cell_type": "markdown",
   "metadata": {},
   "source": [
    "### Q 7. Make a kmeans model to cluster the samples in 6 clusters taking the below parameters:\n",
    "- init = 'k-means++',\n",
    "- max_iter = 300, \n",
    "- n_init = 10,\n",
    "- random_state = 0\n",
    "\n",
    "### Return the model.\n",
    "\n",
    "\n",
    "### Also Compute cluster centers and predict cluster index for each sample using fit_predict method(Return this variable also)"
   ]
  },
  {
   "cell_type": "code",
   "execution_count": null,
   "metadata": {},
   "outputs": [],
   "source": [
    "def generate():\n",
    "    # your code here\n",
    "    return # your variables here\n",
    "km6, y_means6 = generate()"
   ]
  },
  {
   "cell_type": "markdown",
   "metadata": {},
   "source": [
    "### Q 8. Visulaize the clusters using scatter plot (Spend Vs Income). Taking marker size as 50, color for clusters 1 to 6 as purple, blue, green, cyan, magenta, orange respectively, label for various clusters as 'Cluster1', 'Cluster2', 'Cluster3', 'Cluster4','Cluster5','Cluster6'. For the cluster centres use marker = 's', marker size as 200 and color as red, alpha blending value as 0.7 and label as 'Centroids'. Title of the plot should be ' Customer segments '.Set \"Annual income of customer\" as label of x axis and \"Annual spend from customer on site\" as label of y axis. "
   ]
  },
  {
   "cell_type": "code",
   "execution_count": null,
   "metadata": {},
   "outputs": [],
   "source": [
    "def generate():\n",
    "    # your code here\n",
    "    return \n",
    "generate()"
   ]
  },
  {
   "cell_type": "markdown",
   "metadata": {},
   "source": [
    "__Interpretation of the 6 segments created__<br/>\n",
    "\n",
    "Setting the number of clusters to 6 seems to provide a more meaningful customer segmentation.\n",
    "\n",
    "- <span style=\"color:purple\">**__Cluster 1__:** </span>:: Medium income, low annual spend\n",
    "- <span style=\"color:blue\">**__Cluster 2__:** </span>:: Low income, low annual spend\n",
    "- <span style=\"color:green\">**__Cluster 3__:** </span>:: High income, high annual spend\n",
    "- <span style=\"color:cyan\">**__Cluster 4__:** </span>:: Low income, high annual spend\n",
    "- <span style=\"color:magenta\">**__Cluster 5__:** </span>:: Medium income, low annual spend\n",
    "- <span style=\"color:orange\">**__Cluster 6__:** </span>:: Very high income, high annual spend<br/>\n",
    "Thus it is evident that 6 clusters provides a more meaningful segmentation of the customers."
   ]
  },
  {
   "cell_type": "markdown",
   "metadata": {},
   "source": [
    "### Q 9. Use Elbow method to find the optimal number of cluster for our dataset. Use the below parameters for the kmeans model.\n",
    "- init='k-means++',\n",
    "- max_iter=300, \n",
    "- n_init=10,\n",
    "- random_state=0\n",
    "### Plot the graph between \" Sum of squared distances of samples to their closest cluster center for number of clusters ranging between 1 to 11\" Versus the number of clusters."
   ]
  },
  {
   "cell_type": "code",
   "execution_count": null,
   "metadata": {},
   "outputs": [],
   "source": [
    "def generate():\n",
    "    # your code here\n",
    "    return\n",
    "generate()"
   ]
  },
  {
   "cell_type": "markdown",
   "metadata": {},
   "source": [
    "### Q10. Plot dendrogram to find the optimal number of clusters. Set  \"Hierarchical Clustering Dendrogram (truncated) \" as title, \"sample index or (cluster size)\" as  xlabel and \"distance\" as ylabel. For linkage use the 'ward' method, Also show only the last 12 merged clusters in the dendrogram, keep leaf_font_size as 12. In the plot also draw a line to select a Distance Cut-Off at 400 to Determine the Number of Clusters.\n",
    "   "
   ]
  },
  {
   "cell_type": "code",
   "execution_count": null,
   "metadata": {},
   "outputs": [],
   "source": [
    "import scipy.cluster.hierarchy as sch\n",
    "def generate():\n",
    "    # your code here\n",
    "    return\n",
    "generate()"
   ]
  },
  {
   "cell_type": "markdown",
   "metadata": {},
   "source": [
    "You can see the best choice for the number of cluster is 3.  "
   ]
  },
  {
   "cell_type": "markdown",
   "metadata": {},
   "source": [
    "### Q 11. Make a hierarical clustering model to cluster the samples in 3 clusters using Agglomerative Clustering object and by taking the below parameters:\n",
    "- affinity = 'euclidean',\n",
    "- compute_full_tree = 'auto',\n",
    "- connectivity = None,\n",
    "- linkage = 'ward',\n",
    "- memory = None,\n",
    "- pooling_func = 'deprecated'\n",
    "\n",
    "### Return the model.\n",
    "\n",
    "\n",
    "### Also Compute cluster centers and predict cluster index for each sample using fit_predict method(Return this variable also)"
   ]
  },
  {
   "cell_type": "code",
   "execution_count": null,
   "metadata": {},
   "outputs": [],
   "source": [
    "from sklearn.cluster import AgglomerativeClustering\n",
    "def generate():\n",
    "    # your code here\n",
    "    return # your variables here\n",
    "hc, y_hc = generate()"
   ]
  },
  {
   "cell_type": "markdown",
   "metadata": {},
   "source": [
    "### Q 12. Visulaize the clusters using scatter plot (Spend Vs Income). Take :\n",
    "- marker size as 50,\n",
    "- color for clusters 1 to 3 as red, blue, green respectively,\n",
    "- label for various clusters as 'Cluster1', 'Cluster2', 'Cluster3'.\n",
    "- Title of the plot should be ' Clusters of customers '.\n",
    "- Set \"Annual income of customer in `$`000\" as label of x axis and\n",
    "- \"Annual spend in`$`000\" as label of y axis. "
   ]
  },
  {
   "cell_type": "code",
   "execution_count": null,
   "metadata": {},
   "outputs": [],
   "source": [
    "def generate():\n",
    "    # your code here\n",
    "    return\n",
    "generate()"
   ]
  },
  {
   "cell_type": "markdown",
   "metadata": {},
   "source": [
    "__Interpretation of the 3 segments created__<br/>\n",
    "\n",
    "The plot shows the distribution of the 3 clusters. We could interpret them as the following customer segments:\n",
    "\n",
    "- <span style=\"color:red\">**__Cluster 1__:** </span>: Customers with medium annual income and low to high annual spend\n",
    "- <span style=\"color:blue\">**__Cluster 2__:** </span>: Customers with low annual income and low to high annual spend\n",
    "- <span style=\"color:green\">**__Cluster 3__:** </span>: Customers with high annual income and medium to high annual spend"
   ]
  }
 ],
 "metadata": {
  "kernelspec": {
   "display_name": "Python 3",
   "language": "python",
   "name": "python3"
  },
  "language_info": {
   "codemirror_mode": {
    "name": "ipython",
    "version": 3
   },
   "file_extension": ".py",
   "mimetype": "text/x-python",
   "name": "python",
   "nbconvert_exporter": "python",
   "pygments_lexer": "ipython3",
   "version": "3.6.5"
  }
 },
 "nbformat": 4,
 "nbformat_minor": 2
}
