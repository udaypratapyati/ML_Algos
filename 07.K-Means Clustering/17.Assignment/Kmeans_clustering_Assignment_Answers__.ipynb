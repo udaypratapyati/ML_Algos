{
 "cells": [
  {
   "cell_type": "markdown",
   "metadata": {},
   "source": [
    "<img src=\"https://github.com/insaid2018/Term-1/blob/master/Images/INSAID_Full%20Logo.png?raw=true\" width=\"240\" height=\"360\" />\n",
    "\n",
    "# ASSIGNMENT\n",
    "## Customer Segmentation Dataset"
   ]
  },
  {
   "cell_type": "markdown",
   "metadata": {},
   "source": [
    "__Context__<br/>\n",
    "- In today's competitive world, it is crucial to understand customer bahaviour and categorise customers based on their demography and buying behaviour. This is broadly one aspect of customer segmentation that allows marketers to better tailor their marketing efforts to various audience subsets in terms of promotional, marketing and product development strategies.\n",
    "\n",
    "__Objective__<br/>\n",
    "- This assignment demonstrates the concept of segmentation of a customer dataset from an e-commerce site using k-means clustering in python. You will use the kmeans and the hierarchical clustering algorithms to derive the optimum number of clusters and understand the underlying customer segments based on the data provided.\n",
    "\n",
    "__About the dataset__<br/>\n",
    "- The dataset consists of Annual income (in `$`000) and their annual spend (in `$`000) on an e-commerce site for a period of one year. Let us explore the data using numpy and pandas libraries in python."
   ]
  },
  {
   "cell_type": "markdown",
   "metadata": {},
   "source": [
    "### Import the dataset"
   ]
  },
  {
   "cell_type": "code",
   "execution_count": 1,
   "metadata": {},
   "outputs": [
    {
     "data": {
      "text/html": [
       "<div>\n",
       "<style scoped>\n",
       "    .dataframe tbody tr th:only-of-type {\n",
       "        vertical-align: middle;\n",
       "    }\n",
       "\n",
       "    .dataframe tbody tr th {\n",
       "        vertical-align: top;\n",
       "    }\n",
       "\n",
       "    .dataframe thead th {\n",
       "        text-align: right;\n",
       "    }\n",
       "</style>\n",
       "<table border=\"1\" class=\"dataframe\">\n",
       "  <thead>\n",
       "    <tr style=\"text-align: right;\">\n",
       "      <th></th>\n",
       "      <th>INCOME</th>\n",
       "      <th>SPEND</th>\n",
       "    </tr>\n",
       "  </thead>\n",
       "  <tbody>\n",
       "    <tr>\n",
       "      <th>0</th>\n",
       "      <td>233</td>\n",
       "      <td>150</td>\n",
       "    </tr>\n",
       "    <tr>\n",
       "      <th>1</th>\n",
       "      <td>250</td>\n",
       "      <td>187</td>\n",
       "    </tr>\n",
       "    <tr>\n",
       "      <th>2</th>\n",
       "      <td>204</td>\n",
       "      <td>172</td>\n",
       "    </tr>\n",
       "    <tr>\n",
       "      <th>3</th>\n",
       "      <td>236</td>\n",
       "      <td>178</td>\n",
       "    </tr>\n",
       "    <tr>\n",
       "      <th>4</th>\n",
       "      <td>354</td>\n",
       "      <td>163</td>\n",
       "    </tr>\n",
       "  </tbody>\n",
       "</table>\n",
       "</div>"
      ],
      "text/plain": [
       "   INCOME  SPEND\n",
       "0     233    150\n",
       "1     250    187\n",
       "2     204    172\n",
       "3     236    178\n",
       "4     354    163"
      ]
     },
     "execution_count": 1,
     "metadata": {},
     "output_type": "execute_result"
    }
   ],
   "source": [
    "import pandas as pd\n",
    "dataset= pd.read_csv('https://raw.githubusercontent.com/insaid2018/Term-3/master/Data/Assignment/CLV.csv')\n",
    "dataset.head()"
   ]
  },
  {
   "cell_type": "markdown",
   "metadata": {},
   "source": [
    "### Check the shape of the dataset"
   ]
  },
  {
   "cell_type": "code",
   "execution_count": 2,
   "metadata": {
    "colab": {
     "base_uri": "https://localhost:8080/",
     "height": 35
    },
    "colab_type": "code",
    "id": "r-NdDTW3ylAu",
    "outputId": "10d13550-82db-406c-f6bb-ad0dc2474be1"
   },
   "outputs": [
    {
     "data": {
      "text/plain": [
       "(303, 2)"
      ]
     },
     "execution_count": 2,
     "metadata": {},
     "output_type": "execute_result"
    }
   ],
   "source": [
    "dataset.shape"
   ]
  },
  {
   "cell_type": "markdown",
   "metadata": {},
   "source": [
    "### Check the columns present in the dataset"
   ]
  },
  {
   "cell_type": "code",
   "execution_count": 3,
   "metadata": {
    "colab": {},
    "colab_type": "code",
    "id": "fzrXmgB6yrnK"
   },
   "outputs": [
    {
     "data": {
      "text/plain": [
       "Index(['INCOME', 'SPEND'], dtype='object')"
      ]
     },
     "execution_count": 3,
     "metadata": {},
     "output_type": "execute_result"
    }
   ],
   "source": [
    "dataset.columns"
   ]
  },
  {
   "cell_type": "markdown",
   "metadata": {},
   "source": [
    "### Check the descriptive statistics of the dataset"
   ]
  },
  {
   "cell_type": "code",
   "execution_count": 4,
   "metadata": {},
   "outputs": [
    {
     "data": {
      "text/html": [
       "<div>\n",
       "<style scoped>\n",
       "    .dataframe tbody tr th:only-of-type {\n",
       "        vertical-align: middle;\n",
       "    }\n",
       "\n",
       "    .dataframe tbody tr th {\n",
       "        vertical-align: top;\n",
       "    }\n",
       "\n",
       "    .dataframe thead th {\n",
       "        text-align: right;\n",
       "    }\n",
       "</style>\n",
       "<table border=\"1\" class=\"dataframe\">\n",
       "  <thead>\n",
       "    <tr style=\"text-align: right;\">\n",
       "      <th></th>\n",
       "      <th>count</th>\n",
       "      <th>mean</th>\n",
       "      <th>std</th>\n",
       "      <th>min</th>\n",
       "      <th>25%</th>\n",
       "      <th>50%</th>\n",
       "      <th>75%</th>\n",
       "      <th>max</th>\n",
       "    </tr>\n",
       "  </thead>\n",
       "  <tbody>\n",
       "    <tr>\n",
       "      <th>INCOME</th>\n",
       "      <td>303.0</td>\n",
       "      <td>245.273927</td>\n",
       "      <td>48.499412</td>\n",
       "      <td>126.0</td>\n",
       "      <td>211.0</td>\n",
       "      <td>240.0</td>\n",
       "      <td>274.0</td>\n",
       "      <td>417.0</td>\n",
       "    </tr>\n",
       "    <tr>\n",
       "      <th>SPEND</th>\n",
       "      <td>303.0</td>\n",
       "      <td>149.646865</td>\n",
       "      <td>22.905161</td>\n",
       "      <td>71.0</td>\n",
       "      <td>133.5</td>\n",
       "      <td>153.0</td>\n",
       "      <td>166.0</td>\n",
       "      <td>202.0</td>\n",
       "    </tr>\n",
       "  </tbody>\n",
       "</table>\n",
       "</div>"
      ],
      "text/plain": [
       "        count        mean        std    min    25%    50%    75%    max\n",
       "INCOME  303.0  245.273927  48.499412  126.0  211.0  240.0  274.0  417.0\n",
       "SPEND   303.0  149.646865  22.905161   71.0  133.5  153.0  166.0  202.0"
      ]
     },
     "execution_count": 4,
     "metadata": {},
     "output_type": "execute_result"
    }
   ],
   "source": [
    "dataset.describe().transpose()"
   ]
  },
  {
   "cell_type": "markdown",
   "metadata": {},
   "source": [
    "The mean annual income is `$`245000 and the mean annual spend is `$`149000. "
   ]
  },
  {
   "cell_type": "markdown",
   "metadata": {},
   "source": [
    "### Check the info of the dataset"
   ]
  },
  {
   "cell_type": "code",
   "execution_count": 5,
   "metadata": {},
   "outputs": [
    {
     "name": "stdout",
     "output_type": "stream",
     "text": [
      "<class 'pandas.core.frame.DataFrame'>\n",
      "RangeIndex: 303 entries, 0 to 302\n",
      "Data columns (total 2 columns):\n",
      "INCOME    303 non-null int64\n",
      "SPEND     303 non-null int64\n",
      "dtypes: int64(2)\n",
      "memory usage: 4.8 KB\n"
     ]
    }
   ],
   "source": [
    "dataset.info()"
   ]
  },
  {
   "cell_type": "markdown",
   "metadata": {},
   "source": [
    "### Q 1. Write a code to check the missing values present in the dataset. "
   ]
  },
  {
   "cell_type": "code",
   "execution_count": 6,
   "metadata": {},
   "outputs": [
    {
     "data": {
      "text/plain": [
       "INCOME    0\n",
       "SPEND     0\n",
       "dtype: int64"
      ]
     },
     "execution_count": 6,
     "metadata": {},
     "output_type": "execute_result"
    }
   ],
   "source": [
    "def generate():\n",
    "    return dataset.isnull().sum()\n",
    "generate()"
   ]
  },
  {
   "cell_type": "markdown",
   "metadata": {},
   "source": [
    "### Q 2. Illustrate the distribution of the annual income and annual spend with a distplot."
   ]
  },
  {
   "cell_type": "code",
   "execution_count": 7,
   "metadata": {},
   "outputs": [
    {
     "data": {
      "image/png": "[encoded data removed]",
      "text/plain": [
       "<Figure size 432x288 with 1 Axes>"
      ]
     },
     "metadata": {},
     "output_type": "display_data"
    }
   ],
   "source": [
    "import seaborn as sns\n",
    "import matplotlib.pyplot as plt\n",
    "% matplotlib inline\n",
    "def generate():\n",
    "    plot_income = sns.distplot(dataset[\"INCOME\"])\n",
    "    plot_spend = sns.distplot(dataset[\"SPEND\"])\n",
    "    plt.xlabel('Income / spend')\n",
    "    plt.show()\n",
    "    return\n",
    "generate()"
   ]
  },
  {
   "cell_type": "markdown",
   "metadata": {},
   "source": [
    "### Q 3. Illustrate the distribution of the annual income and annual spend with Violinplot."
   ]
  },
  {
   "cell_type": "code",
   "execution_count": 8,
   "metadata": {},
   "outputs": [
    {
     "data": {
      "image/png": "[encoded data removed]",
      "text/plain": [
       "<Figure size 864x432 with 2 Axes>"
      ]
     },
     "metadata": {},
     "output_type": "display_data"
    }
   ],
   "source": [
    "def generate():\n",
    "    f, axes = plt.subplots(1,2, figsize=(12,6), sharex=True, sharey=True)\n",
    "    v1 = sns.violinplot(data=dataset, x='INCOME', color=\"skyblue\",ax=axes[0])\n",
    "    v2 = sns.violinplot(data=dataset, x='SPEND',color=\"lightgreen\", ax=axes[1])\n",
    "    v1.set(xlim=(0,420))\n",
    "    return\n",
    "generate()"
   ]
  },
  {
   "cell_type": "markdown",
   "metadata": {},
   "source": [
    "### Q 4. Draw scatter plot of Spend versus Income to understand the spread, use color as black and size of marker as 100."
   ]
  },
  {
   "cell_type": "code",
   "execution_count": 9,
   "metadata": {},
   "outputs": [
    {
     "data": {
      "image/png": "[encoded data removed]",
      "text/plain": [
       "<Figure size 432x288 with 1 Axes>"
      ]
     },
     "metadata": {},
     "output_type": "display_data"
    }
   ],
   "source": [
    "def generate():\n",
    "    plt.scatter(dataset['INCOME'], dataset['SPEND'], c='black', s=100)\n",
    "    return\n",
    "generate()"
   ]
  },
  {
   "cell_type": "markdown",
   "metadata": {},
   "source": [
    "__Plotting in 3D space__"
   ]
  },
  {
   "cell_type": "code",
   "execution_count": 10,
   "metadata": {},
   "outputs": [
    {
     "data": {
      "text/plain": [
       "<mpl_toolkits.mplot3d.art3d.Path3DCollection at 0x1b5afe034e0>"
      ]
     },
     "execution_count": 10,
     "metadata": {},
     "output_type": "execute_result"
    },
    {
     "data": {
      "image/png": "[encoded data removed]",
      "text/plain": [
       "<Figure size 432x288 with 1 Axes>"
      ]
     },
     "metadata": {},
     "output_type": "display_data"
    }
   ],
   "source": [
    "from mpl_toolkits.mplot3d import Axes3D\n",
    "import numpy as np\n",
    "\n",
    "fig = plt.figure()\n",
    "ax = Axes3D(fig)\n",
    "\n",
    "X = np.array(list(zip(dataset['INCOME'], dataset['SPEND'])))\n",
    "ax.scatter(X[:, 0], X[:, 1])"
   ]
  },
  {
   "cell_type": "markdown",
   "metadata": {},
   "source": [
    "### Q 5 . Make a kmeans model to cluster the samples in 4 clusters taking the below parameters:\n",
    "- init='k-means++',\n",
    "- max_iter=300, \n",
    "- n_init=10,\n",
    "- random_state=0\n",
    "\n",
    "### Return the model.\n",
    "\n",
    "\n",
    "### Also Compute cluster centers and predict cluster index for each sample using fit_predict method(Return this variable also)"
   ]
  },
  {
   "cell_type": "code",
   "execution_count": null,
   "metadata": {},
   "outputs": [],
   "source": [
    "from sklearn.cluster import KMeans\n",
    "def generate():\n",
    "    km4 = KMeans(n_clusters=4,init='k-means++', max_iter=300, n_init=10, random_state=0)\n",
    "    return km4, km4.fit_predict(X)\n",
    "km4, y_means = generate()"
   ]
  },
  {
   "cell_type": "markdown",
   "metadata": {},
   "source": [
    "### Q 6. Visulaize the clusters using scatter plot (Spend Vs Income). Taking marker size as 50, color for clusters 1 to 4 as purple, blue, green & cyan, label for various clusters as 'Cluster1', 'Cluster2', 'Cluster3', 'Cluster4'. For the cluster centres use marker = 's', marker size as 200 and color as red, alpha blending value as 0.7 and label as 'Centroids'. Title of the plot should be ' Customer segments '.Set \"Annual income of customer\" as label of x axis and \"Annual spend from customer on site\" as label of y axis. "
   ]
  },
  {
   "cell_type": "code",
   "execution_count": null,
   "metadata": {},
   "outputs": [],
   "source": [
    "def generate():\n",
    "    plt.scatter(X[y_means==0,0],X[y_means==0,1],s=50, c='purple',label='Cluster1')\n",
    "    plt.scatter(X[y_means==1,0],X[y_means==1,1],s=50, c='blue',label='Cluster2')\n",
    "    plt.scatter(X[y_means==2,0],X[y_means==2,1],s=50, c='green',label='Cluster3')\n",
    "    plt.scatter(X[y_means==3,0],X[y_means==3,1],s=50, c='cyan',label='Cluster4')\n",
    "    \n",
    "    plt.scatter(km4.cluster_centers_[:,0], km4.cluster_centers_[:,1],s=200,marker='s', c='red', alpha=0.7, label='Centroids')\n",
    "    \n",
    "    plt.title('Customer segments')\n",
    "    plt.xlabel('Annual income of customer')\n",
    "    plt.ylabel('Annual spend from customer on site')\n",
    "    \n",
    "    plt.legend()\n",
    "    plt.show()\n",
    "    return\n",
    "generate()"
   ]
  },
  {
   "cell_type": "markdown",
   "metadata": {},
   "source": []
  },
  {
   "cell_type": "markdown",
   "metadata": {},
   "source": [
    "__Interpretation of the 4 segments created__<br/>\n",
    "\n",
    "The plot shows the distribution of the 4 clusters. We could interpret them as the following customer segments:\n",
    "\n",
    "- <span style=\"color:purple\">**__Cluster 1__:** </span>:: Customers with medium annual income and low annual spend\n",
    "- <span style=\"color:blue\">**__Cluster 2__:** </span>:: Customers with high annual income and medium to high annual spend\n",
    "- <span style=\"color:green\">**__Cluster 3__:** </span>:: Customers with low annual income\n",
    "- <span style=\"color:cyan\">**__Cluster 4__:** </span>:: Customers with medium annual income but high annual spend\n",
    "\n",
    "__Cluster 4__ straight away is one __potential customer segment__. However, Cluster 2 and 3 can be segmented further to arrive at a more specific target customer group. Let us now look at how the clusters are created when k=6:"
   ]
  },
  {
   "cell_type": "markdown",
   "metadata": {},
   "source": [
    "### Q 7. Make a kmeans model to cluster the samples in 6 clusters taking the below parameters:\n",
    "- init = 'k-means++',\n",
    "- max_iter = 300, \n",
    "- n_init = 10,\n",
    "- random_state = 0\n",
    "\n",
    "### Return the model.\n",
    "\n",
    "\n",
    "### Also Compute cluster centers and predict cluster index for each sample using fit_predict method(Return this variable also)"
   ]
  },
  {
   "cell_type": "code",
   "execution_count": null,
   "metadata": {},
   "outputs": [],
   "source": [
    "def generate():\n",
    "    km6 = KMeans(n_clusters=6,init='k-means++', max_iter=300, n_init=10, random_state=0)\n",
    "    return km6, km6.fit_predict(X)\n",
    "km6, y_means6 = generate()"
   ]
  },
  {
   "cell_type": "markdown",
   "metadata": {},
   "source": [
    "### Q 8. Visulaize the clusters using scatter plot (Spend Vs Income). Taking marker size as 50, color for clusters 1 to 6 as purple, blue, green, cyan, magenta, orange respectively, label for various clusters as 'Cluster1', 'Cluster2', 'Cluster3', 'Cluster4','Cluster5','Cluster6'. For the cluster centres use marker = 's', marker size as 200 and color as red, alpha blending value as 0.7 and label as 'Centroids'. Title of the plot should be ' Customer segments '.Set \"Annual income of customer\" as label of x axis and \"Annual spend from customer on site\" as label of y axis. "
   ]
  },
  {
   "cell_type": "code",
   "execution_count": null,
   "metadata": {},
   "outputs": [],
   "source": [
    "def generate():\n",
    "    plt.scatter(X[y_means6==0,0],X[y_means6==0,1],s=50, c='purple',label='Cluster1')\n",
    "    plt.scatter(X[y_means6==1,0],X[y_means6==1,1],s=50, c='blue',label='Cluster2')\n",
    "    plt.scatter(X[y_means6==2,0],X[y_means6==2,1],s=50, c='green',label='Cluster3')\n",
    "    plt.scatter(X[y_means6==3,0],X[y_means6==3,1],s=50, c='cyan',label='Cluster4')\n",
    "    plt.scatter(X[y_means6==4,0],X[y_means6==4,1],s=50, c='magenta',label='Cluster5')\n",
    "    plt.scatter(X[y_means6==5,0],X[y_means6==5,1],s=50, c='orange',label='Cluster6')\n",
    "    \n",
    "    plt.scatter(km6.cluster_centers_[:,0], km6.cluster_centers_[:,1],s=200,marker='s', c='red', alpha=0.7, label='Centroids')\n",
    "    \n",
    "    plt.title('Customer segments')\n",
    "    plt.xlabel('Annual income of customer')\n",
    "    plt.ylabel('Annual spend from customer on site')\n",
    "    \n",
    "    plt.legend()\n",
    "    plt.show()\n",
    "    return\n",
    "generate()"
   ]
  },
  {
   "cell_type": "markdown",
   "metadata": {},
   "source": [
    "__Interpretation of the 6 segments created__<br/>\n",
    "\n",
    "Setting the number of clusters to 6 seems to provide a more meaningful customer segmentation.\n",
    "\n",
    "- <span style=\"color:purple\">**__Cluster 1__:** </span>:: Medium income, low annual spend\n",
    "- <span style=\"color:blue\">**__Cluster 2__:** </span>:: Low income, low annual spend\n",
    "- <span style=\"color:green\">**__Cluster 3__:** </span>:: High income, high annual spend\n",
    "- <span style=\"color:cyan\">**__Cluster 4__:** </span>:: Low income, high annual spend\n",
    "- <span style=\"color:magenta\">**__Cluster 5__:** </span>:: Medium income, low annual spend\n",
    "- <span style=\"color:orange\">**__Cluster 6__:** </span>:: Very high income, high annual spend<br/>\n",
    "Thus it is evident that 6 clusters provides a more meaningful segmentation of the customers."
   ]
  },
  {
   "cell_type": "markdown",
   "metadata": {},
   "source": [
    "### Q 9. Use Elbow method to find the optimal number of cluster for our dataset. Use the below parameters for the kmeans model.\n",
    "- init='k-means++',\n",
    "- max_iter=300, \n",
    "- n_init=10,\n",
    "- random_state=0\n",
    "### Plot the graph between \" Sum of squared distances of samples to their closest cluster center for number of clusters ranging between 1 to 11\" Versus the number of clusters."
   ]
  },
  {
   "cell_type": "code",
   "execution_count": null,
   "metadata": {},
   "outputs": [],
   "source": [
    "def generate():\n",
    "    wcss = {}\n",
    "    for i in range(1,11):\n",
    "    \n",
    "        km=KMeans(n_clusters = i, init = 'k-means++', max_iter = 300, n_init = 10, random_state = 0)\n",
    "        km.fit(X)\n",
    "    \n",
    "        wcss[i] = km.inertia_\n",
    "    \n",
    "    plt.plot(list(wcss.keys()), list(wcss.values()))\n",
    "\n",
    "    plt.title('Elbow Method')\n",
    "    plt.xlabel('Number of clusters')\n",
    "    plt.ylabel('wcss')\n",
    "    plt.show()\n",
    "    return\n",
    "generate()"
   ]
  },
  {
   "cell_type": "markdown",
   "metadata": {},
   "source": [
    "### Q10. Plot dendrogram to find the optimal number of clusters. Set  \"Hierarchical Clustering Dendrogram (truncated) \" as title, \"sample index or (cluster size)\" as  xlabel and \"distance\" as ylabel. For linkage use the 'ward' method, Also show only the last 12 merged clusters in the dendrogram, keep leaf_font_size as 12. In the plot also draw a line to select a Distance Cut-Off at 400 to Determine the Number of Clusters.\n",
    "   "
   ]
  },
  {
   "cell_type": "code",
   "execution_count": null,
   "metadata": {},
   "outputs": [],
   "source": [
    "import scipy.cluster.hierarchy as sch\n",
    "def generate():\n",
    "    \n",
    "    plt.title('Hierarchical Clustering Dendrogram (truncated)')\n",
    "    plt.xlabel('sample index or (cluster size)')\n",
    "    plt.ylabel('distance')\n",
    "    Z = sch.linkage(X, 'ward')\n",
    "    \n",
    "    \n",
    "    sch.dendrogram(\n",
    "                   Z,\n",
    "                   truncate_mode='lastp',  # show only the last p merged clusters\n",
    "                   p=12 ,                 # show only the last p merged clusters\n",
    "                   leaf_font_size=12\n",
    "                  )\n",
    "                   \n",
    "    plt.axhline(y=400, c = 'k')\n",
    "    plt.show()\n",
    "    return\n",
    "generate()"
   ]
  },
  {
   "cell_type": "markdown",
   "metadata": {},
   "source": [
    "You can see the best choice for the number of cluster is 3.  "
   ]
  },
  {
   "cell_type": "markdown",
   "metadata": {},
   "source": [
    "### Q 11. Make a hierarical clustering model to cluster the samples in 3 clusters using Agglomerative Clustering object and by taking the below parameters:\n",
    "- affinity='euclidean',\n",
    "- compute_full_tree='auto',\n",
    "- connectivity=None,\n",
    "- linkage='ward',\n",
    "- memory=None,\n",
    "- pooling_func='deprecated'\n",
    "\n",
    "### Return the model.\n",
    "\n",
    "\n",
    "### Also Compute cluster centers and predict cluster index for each sample using fit_predict method(Return this variable also)"
   ]
  },
  {
   "cell_type": "code",
   "execution_count": null,
   "metadata": {},
   "outputs": [],
   "source": [
    "from sklearn.cluster import AgglomerativeClustering\n",
    "def generate():\n",
    "    \n",
    "    hc = AgglomerativeClustering(  n_clusters = 3,\n",
    "                                   affinity = 'euclidean',\n",
    "                                   compute_full_tree = 'auto',\n",
    "                                   connectivity = None,\n",
    "                                   linkage = 'ward',\n",
    "                                   memory = None,\n",
    "                                   pooling_func = 'deprecated')\n",
    "    \n",
    "    return hc, hc.fit_predict(X)\n",
    "hc, y_hc = generate()"
   ]
  },
  {
   "cell_type": "markdown",
   "metadata": {},
   "source": [
    "### Q 12. Visulaize the clusters using scatter plot (Spend Vs Income). Take :\n",
    "- marker size as 50,\n",
    "- color for clusters 1 to 3 as red, blue, green respectively,\n",
    "- label for various clusters as 'Cluster1', 'Cluster2', 'Cluster3'.\n",
    "- Title of the plot should be ' Clusters of customers '.\n",
    "- Set \"Annual income of customer in `$`000\" as label of x axis and\n",
    "- \"Annual spend in`$`000\" as label of y axis. "
   ]
  },
  {
   "cell_type": "code",
   "execution_count": null,
   "metadata": {},
   "outputs": [],
   "source": [
    "def generate():\n",
    "    plt.scatter(X[y_hc == 0, 0], X[y_hc == 0, 1], s = 50, c = 'red', label = 'Cluster 1')\n",
    "    plt.scatter(X[y_hc == 1, 0], X[y_hc == 1, 1], s = 50, c = 'blue', label = 'Cluster 2')\n",
    "    plt.scatter(X[y_hc == 2, 0], X[y_hc == 2, 1], s = 50, c = 'green', label = 'Cluster 3')\n",
    "\n",
    "    plt.title('Clusters of customers')\n",
    "    plt.xlabel('Annual Income of customer in `$`000')\n",
    "    plt.ylabel('Annual spend in `$`000')\n",
    "\n",
    "    plt.legend()\n",
    "    plt.show()\n",
    "    return\n",
    "generate()"
   ]
  },
  {
   "cell_type": "markdown",
   "metadata": {},
   "source": [
    "__Interpretation of the 3 segments created__<br/>\n",
    "\n",
    "The plot shows the distribution of the 3 clusters. We could interpret them as the following customer segments:\n",
    "\n",
    "- <span style=\"color:red\">**__Cluster 1__:** </span>: Customers with medium annual income and low to high annual spend\n",
    "- <span style=\"color:blue\">**__Cluster 2__:** </span>: Customers with low annual income and low to high annual spend\n",
    "- <span style=\"color:green\">**__Cluster 3__:** </span>: Customers with high annual income and medium to high annual spend"
   ]
  }
 ],
 "metadata": {
  "kernelspec": {
   "display_name": "Python 3",
   "language": "python",
   "name": "python3"
  },
  "language_info": {
   "codemirror_mode": {
    "name": "ipython",
    "version": 3
   },
   "file_extension": ".py",
   "mimetype": "text/x-python",
   "name": "python",
   "nbconvert_exporter": "python",
   "pygments_lexer": "ipython3",
   "version": "3.6.5"
  }
 },
 "nbformat": 4,
 "nbformat_minor": 2
}
