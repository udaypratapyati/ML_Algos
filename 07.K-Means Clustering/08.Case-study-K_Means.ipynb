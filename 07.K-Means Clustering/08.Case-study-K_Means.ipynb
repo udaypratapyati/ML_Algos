{
 "cells": [
  {
   "cell_type": "markdown",
   "metadata": {
    "colab_type": "text",
    "id": "o3-npPgxX68p"
   },
   "source": [
    "# K-means Clustering"
   ]
  },
  {
   "cell_type": "markdown",
   "metadata": {
    "colab_type": "text",
    "id": "kGA9h7KQX68r"
   },
   "source": [
    "## Table of Content\n",
    "1. [Introduction to Clustering](#section1)<br>\n",
    "    - 1.1 [Overview: What is Clustering?](#section101)<br>\n",
    "    - 1.2 [Types of Clustering](#section103)<br>\n",
    "    - 1.3 [Types of Clustering Algorithms](#section103)<br>\n",
    "    - 1.4 [Introduction to K-means Algorithm](#section104)<br>\n",
    "    - 1.5 [Business Cases](#section105)<br>\n",
    "    - 1.6 [Algorithm](#section106)<br>\n",
    "    - 1.7 [Choosing K](#section107)<br>\n",
    "    - 1.8 [How good is K-Means](#section108)<br>\n",
    "2. [Use Case - Women E-commerce Clothing Reviews](#section2)<br>\n",
    "3. [Data loading and description](#section3)<br>\n",
    "4. [Data Interpretation and Visualization](#section4)<br>\n",
    "5. [Train test split](#section5)<br>\n",
    "6. [Conclusions](#section6)"
   ]
  },
  {
   "cell_type": "markdown",
   "metadata": {
    "colab_type": "text",
    "id": "5wCeVPbZX68s"
   },
   "source": [
    "## Introduction"
   ]
  },
  {
   "cell_type": "markdown",
   "metadata": {
    "colab_type": "text",
    "id": "wWCxGgv2X68t"
   },
   "source": [
    "Have you come across a situation when a Chief Marketing Officer of a company tells you – __“Help me understand our customers better so that we can market our products to them in a better manner!\"__<br>\n",
    "- If the person would have asked me to calculate Life Time Value (LTV) or propensity of Cross-sell, I wouldn’t have blinked. But this question looked very broad to me!<br>\n",
    "- You are _not looking for __specific insights__ for a phenomena_, but what you are looking for are __structures with in data _with out them being tied down_ to a specific outcome__.<br>\n",
    "- The method of __identifying similar groups of data__ in a data set is called __clustering__. Entities in each group are __comparatively more similar__ to entities of that group than those of the other groups. In this article, I will be taking you through the __types of clustering__, __different clustering algorithms__ and a _comparison between two of the __most commonly used__ cluster methods_.\n",
    "<img src = 'https://raw.githubusercontent.com/insaid2018/Term-3/master/Images/k-means/kmeans1.png'>"
   ]
  },
  {
   "cell_type": "markdown",
   "metadata": {
    "colab_type": "text",
    "id": "4bwN75YmX68t"
   },
   "source": [
    "## Overview : What is Clustering?"
   ]
  },
  {
   "cell_type": "markdown",
   "metadata": {
    "colab_type": "text",
    "id": "x33H0fPrX68u"
   },
   "source": [
    "Clustering is the task of __dividing the population__ or __data points__ into _a number of groups_ such that _data points in the same groups are more similar to other data points in the same group_ than those in other groups. \n",
    "> __In simple words, the aim is to segregate groups with similar traits and assign them into clusters__. \n",
    "\n",
    "<img src = 'https://raw.githubusercontent.com/insaid2018/Term-3/master/Images/k-means/kmeans2.png'>\n",
    "\n",
    "Let’s understand this with an example.<br>\n",
    "1. Suppose, you are the __head of a rental store__ and wish to __understand preferences__ of your costumers to __scale up your business__. \n",
    "2. Is it possible for you to look at _details of each costumer and devise a unique business strategy_ for each one of them? __Definitely not__. \n",
    "3. But, what you can do is to __cluster__ all of your _costumers into say 10 groups based on their purchasing habits_ and use a __separate strategy__ for _costumers in each of these 10 groups_. \n",
    "4. This is what we call __clustering__."
   ]
  },
  {
   "cell_type": "markdown",
   "metadata": {
    "colab_type": "text",
    "id": "5Oo39IDPX68v"
   },
   "source": [
    "## Types of Clustering"
   ]
  },
  {
   "cell_type": "markdown",
   "metadata": {
    "colab_type": "text",
    "id": "F3-ISSHUX68v"
   },
   "source": [
    "Clustering can be divided into two subgroups :\n",
    "\n",
    "1. __Hard Clustering__: In hard clustering, each data point __either belongs to a cluster completely or not__.<br> _For example_, in the above example each customer is put into one group out of the 10 groups.<br><br>\n",
    "\n",
    "2. __Soft Clustering__: In soft clustering, instead of putting each data point into a separate cluster, a __probability or likelihood__ of that data point to be in those clusters is assigned.<br>_For example_, from the above scenario each costumer is assigned a probability to be in either of 10 clusters of the retail store.\n",
    "<img src = 'https://raw.githubusercontent.com/insaid2018/Term-3/master/Images/k-means/kmeans3.png'>\n"
   ]
  },
  {
   "cell_type": "markdown",
   "metadata": {
    "colab_type": "text",
    "id": "3zJUO-iPX68w"
   },
   "source": [
    "## Types of Clustering Algorithms"
   ]
  },
  {
   "cell_type": "markdown",
   "metadata": {
    "colab_type": "text",
    "id": "JvrPkVqhX68w"
   },
   "source": [
    "Since the task of clustering is subjective, this means that can be used for achieving this goal are plenty. Every methodology follows a different set of rules for defining the ‘similarity’ among data points. In fact, there are more than 100 clustering algorithms known. But few of the algorithms are used popularly, let’s look at them in detail:\n",
    "- __Connectivity models__: These models are based on the notion that the data points _closer in data space __exhibit more similarity__ to each other __than__ the data points __lying farther__ away_. These models can follow two approaches.<br> Examples of these models are __hierarchical clustering algorithm__ and its variants.<br><br>\n",
    "- __Centroid models__: These are __iterative clustering algorithms__ in which the notion of similarity is derived by the __closeness of a data point to the centroid of the clusters__. K-Means clustering algorithm is a popular algorithm that falls into this category. These models run iteratively to find the __local optima__.<br><br>\n",
    "- __Distribution models__: These clustering models are based on the notion of __how probable is it that all data points in the cluster belong to the same distribution__ (For example: Normal, Gaussian). These models often suffer from __overfitting__. A popular example of these models is __Expectation-maximization algorithm__ which uses multivariate normal distributions.<br><br>\n",
    "- __Density Models__: These models search the data space for __areas of varied density of data points__ in the data space. It isolates various different density regions and assign the data points within these regions in the same cluster. Popular examples of density models are __DBSCAN and OPTICS__.\n"
   ]
  },
  {
   "cell_type": "markdown",
   "metadata": {
    "colab_type": "text",
    "id": "WwdTOcA5X68x"
   },
   "source": [
    "## Introduction to K-means Algorithm"
   ]
  },
  {
   "cell_type": "markdown",
   "metadata": {
    "colab_type": "text",
    "id": "hGUoY8cDX68y"
   },
   "source": [
    "K-means clustering is a type of __unsupervised learning__, which is used when you have __unlabeled data (i.e., data without defined categories or groups)__. \n",
    "> __The goal of this algorithm is to find groups in the data, with the number of groups represented by the variable K__. <br>\n",
    "\n",
    "- The algorithm works iteratively to assign each data point to one of K groups based on the features that are provided. <br>\n",
    "- Data points are clustered based on feature similarity.<br>\n",
    "\n",
    "The results of the __K-means clustering algorithm__ are:\n",
    "1. The centroids of the K clusters, which can be used to label new data\n",
    "2. Labels for the training data (each data point is assigned to a single cluster)![image.png](https://cdn-images-1.medium.com/max/716/1*WkU1q0Cuha2QKU5JnkcZBw.gif)\n"
   ]
  },
  {
   "cell_type": "markdown",
   "metadata": {
    "colab_type": "text",
    "id": "6XAqcNdIX68y"
   },
   "source": [
    "## Business Cases"
   ]
  },
  {
   "cell_type": "markdown",
   "metadata": {
    "colab_type": "text",
    "id": "PPo4Xk1HX68z"
   },
   "source": [
    "The K-means clustering algorithm is used to __find groups__ which have not been __explicitly labeled__ in the data. This can be used to confirm business assumptions about what types of groups exist or to identify unknown groups in complex data sets.<br>\n",
    "This is a versatile algorithm that can be used for any type of grouping. Some examples of __use cases__ are:\n",
    "- Behavioral Segmentation\n",
    "- Inventory Categorization\n",
    "- Sorting Sensor measurements\n",
    "- Detecting bots and anomalies\n",
    "- Computer Vision\n",
    "- Astronomy"
   ]
  },
  {
   "cell_type": "markdown",
   "metadata": {
    "colab_type": "text",
    "id": "rXvzy_dbX680"
   },
   "source": [
    "## Algorithm"
   ]
  },
  {
   "cell_type": "markdown",
   "metadata": {
    "colab_type": "text",
    "id": "AXMcpXDLX680"
   },
   "source": [
    "To start with k-means algorithm, you first have to randomly initialize points called the cluster centroids (K).<br>\n",
    "There are different methods to initialize the k value in the k-means algorithm:\n",
    "- __Forgy__ - Randomly assigning K centroids in our data set.\n",
    "- __Random Partition__: Assigning each data point to a cluster randomly, and then proceeding to evaluation of centroid positions of each cluster.\n",
    "- __KMeans++__: Used for small data sets.\n",
    "- __Canopy Clustering__: Unsupervised pre-clustering algorithm used as preprocessing step for K-means or any Heirarchichal Clustering. It helps in speeding up clustering operations on large data sets.\n",
    "K-means is an __iterative algorithm__ and it does __two__ steps:<br>\n",
    "### 1. Cluster Assignment\n",
    "The algorithm goes through each of the data points and depending on which cluster is closer, It assigns the data points to one of the three cluster centroids.\n",
    "<img src = 'https://raw.githubusercontent.com/insaid2018/Term-3/master/Images/k-means/kmeans4.png'>"
   ]
  },
  {
   "cell_type": "markdown",
   "metadata": {
    "colab_type": "text",
    "id": "6NTxKe5JX681"
   },
   "source": [
    "<img src = 'https://raw.githubusercontent.com/insaid2018/Term-3/master/Images/k-means/kmeans5.gif'>"
   ]
  },
  {
   "cell_type": "markdown",
   "metadata": {
    "colab_type": "text",
    "id": "CysX83bCX681"
   },
   "source": [
    "### 2. Move Centroid\n",
    "Here, K-means moves the centroids to the average of the points in a cluster. In other words, the algorithm calculates the average of all the points in a cluster and moves the centroid to that average location.\n",
    "\n",
    "This process is repeated until there is no change in the clusters (or possibly until some other stopping condition is met). K is chosen randomly or by giving specific initial starting points by the user.<br>\n",
    "<img src = 'https://raw.githubusercontent.com/insaid2018/Term-3/master/Images/k-means/kmeans6.png'>"
   ]
  },
  {
   "cell_type": "markdown",
   "metadata": {
    "colab_type": "text",
    "id": "zEXM2lXuX682"
   },
   "source": [
    "#### Let's see how actually the k is taken into consideration.\n",
    "\n",
    "As a starting point, you tell your model how many clusters it should make. First the model picks up K, (let K = 3) datapoints from the dataset. These datapoints are called cluster centroids.\n",
    "\n",
    "Now there are different ways you to initialize the centroids, you can either choose them at random — or sort the dataset, split it into K portions and pick one datapoint from each portion as a centriod.\n",
    "\n",
    "#### Assigning clusters to datapoints\n",
    "From here on wards, the model performs calculations on it’s own and assigns a cluster to each datapoint. Your model would calculate the distance between the datapoint & all the centroids, and will be assigned to the cluster with the nearest centroid. Again, there are different ways you can calculate this distance; all having their pros and cons. Usually we use the L2 distance.\n",
    "\n",
    "The picture below shows how to calculate the L2 distance between the centeroid and a datapoint. Every time a datapoint is assigned to a cluster the following steps are followed.\n",
    "\n",
    "<img src = 'https://raw.githubusercontent.com/insaid2018/Term-3/master/Images/k-means/kmeans7.png'>"
   ]
  },
  {
   "cell_type": "markdown",
   "metadata": {
    "colab_type": "text",
    "id": "l71B4g46X682"
   },
   "source": [
    "#### Updating centroids\n",
    "Because the initial centroids were chosen arbitrarily, your model the updates them with new cluster values. The new value might or might not occur in the dataset, in fact, it would be a coincidence if it does. This is because the updated cluster centorid is the average or the mean value of all the datapoints within that cluster.\n",
    "\n",
    "<img src = 'https://raw.githubusercontent.com/insaid2018/Term-3/master/Images/k-means/kmeasn8.png'>"
   ]
  },
  {
   "cell_type": "markdown",
   "metadata": {
    "colab_type": "text",
    "id": "0ixJQ72QX683"
   },
   "source": [
    "## Choosing K"
   ]
  },
  {
   "cell_type": "markdown",
   "metadata": {
    "colab_type": "text",
    "id": "TNvxo3ucX684"
   },
   "source": [
    "One of the metrics that is commonly used to compare results across different values of 'K' is the __mean distance between data points and their cluster centroid__. \n",
    "- Since _increasing the number of clusters will always reduce the distance to data points, increasing K will always decrease this metric, to the extreme of reaching zero when K is the same as the number of data points_. \n",
    "Thus, this metric cannot be used as the sole target. \n",
    "Instead, mean distance to the centroid as a function of K is plotted and the __\"elbow point,\"__ where the __rate of decrease sharply shifts__, can be used to roughly __determine K__.\n",
    "\n",
    "A number of other techniques exist for validating K, including __cross-validation__, __information criteria__, the __information theoretic jump method__, the __silhouette method__, and the __G-means algorithm__. In addition, monitoring the distribution of data points across groups provides __insight__ into how the _algorithm is splitting the data for each K_.\n",
    "\n",
    "<img src = 'https://raw.githubusercontent.com/insaid2018/Term-3/master/Images/k-means/kmeans9.png'>"
   ]
  },
  {
   "cell_type": "markdown",
   "metadata": {
    "colab_type": "text",
    "id": "iqyFZCMSX684"
   },
   "source": [
    "## How good is K-means?"
   ]
  },
  {
   "cell_type": "markdown",
   "metadata": {
    "colab_type": "text",
    "id": "LtSmd6bsX685"
   },
   "source": [
    "#### Pros\n",
    "- It’s a simple technique to understand. Even with the math behind it!\n",
    "- Quite fast for small data-sets.\n",
    "\n",
    "#### Cons\n",
    "- For large data-sets and large number of features, it gets computationally expensive.\n",
    "- If the data-set is sparse, then we may not get a good-quality clustering.\n",
    "- At times, it’s difficult to determine the number of clusters for K-Means.\n",
    "- It’s sensitive to outliers, so you should consider scaling your features before implementing K-Means.\n",
    "- Since the centroids get randomly initialised, the final centroids for the clusters may vary."
   ]
  },
  {
   "cell_type": "markdown",
   "metadata": {
    "colab_type": "text",
    "id": "JXUIAN8TX685"
   },
   "source": [
    "### Introduction to Heirarchial Clustering"
   ]
  },
  {
   "cell_type": "markdown",
   "metadata": {
    "colab_type": "text",
    "id": "2wyCAel4X686"
   },
   "source": [
    "It is a type of __connectivity model__ clustering which is based on the fact that data points that are __closer to each other__ are __more similar__ than the data points lying far away in a data space.\n",
    "\n",
    "As the name speaks for itself, the hierarchical clustering forms the __hierarchy of the clusters__ that can be studied by visualising __dendogram__.\n",
    "\n",
    "<img src = 'https://raw.githubusercontent.com/insaid2018/Term-3/master/Images/k-means/kmeans10.png'>\n"
   ]
  },
  {
   "cell_type": "markdown",
   "metadata": {
    "colab_type": "text",
    "id": "DUciaZNSX686"
   },
   "source": [
    "### How to measure closeness of points?"
   ]
  },
  {
   "cell_type": "markdown",
   "metadata": {
    "colab_type": "text",
    "id": "sFT0vPRJX687"
   },
   "source": [
    "<img src = 'https://raw.githubusercontent.com/insaid2018/Term-3/master/Images/k-means/kmeans11.png'>"
   ]
  },
  {
   "cell_type": "markdown",
   "metadata": {
    "colab_type": "text",
    "id": "NAFanUzlX687"
   },
   "source": [
    "### How to calculate distance between two clusters?"
   ]
  },
  {
   "cell_type": "markdown",
   "metadata": {
    "colab_type": "text",
    "id": "m8MxSAipX688"
   },
   "source": [
    "1. __Centroid Distance__: Euclidean distance between mean of data points in the two clusters\n",
    "2. __Minimum Distance__: Euclidean distance between two data points in the two clusters that are closest to each other\n",
    "3. __Maximum Distance__: Euclidean distance between two data points in the two clusters that are farthest to each other<br>\n",
    "\n",
    "\n",
    "- __Focus on Centroid Distance right now!__"
   ]
  },
  {
   "cell_type": "markdown",
   "metadata": {
    "colab_type": "text",
    "id": "wN-Ho1JlX689"
   },
   "source": [
    "### Algorithm Explained"
   ]
  },
  {
   "cell_type": "markdown",
   "metadata": {
    "colab_type": "text",
    "id": "nN8AZTK9X689"
   },
   "source": [
    "1. Let there be __N__ data points. Firstly, these N data points are assigned to N different clusters with one data point in each cluster.\n",
    "2. Then, two data points with __minimum euclidean distance__ between them are merged into a single cluster.\n",
    "3. Then, two clusters with __minimum centroid distance__ between them are merged into a single cluster.\n",
    "4. This process is repeated until we are left with a single cluster, hence forming hierarchy of clusters.\n",
    "\n",
    "<img src = 'https://raw.githubusercontent.com/insaid2018/Term-3/master/Images/k-means/kmeans12.png'>"
   ]
  },
  {
   "cell_type": "markdown",
   "metadata": {
    "colab_type": "text",
    "id": "xZK1VIGyX68-"
   },
   "source": [
    "### How many clusters to form?"
   ]
  },
  {
   "cell_type": "markdown",
   "metadata": {
    "colab_type": "text",
    "id": "IIt40QkAX68-"
   },
   "source": [
    "1. __Visualising dendogram__: Best choice of no. of clusters is no. of vertical lines that can be cut by a horizontal line, that can transverse maximum distance vertically without intersecting other cluster. \n",
    "    For eg., in the below case, best choice for no. of clusters will be __4__.\n",
    "2. __Intuition__ and prior knowledge of the data set.\n",
    "\n",
    "<img src = 'https://raw.githubusercontent.com/insaid2018/Term-3/master/Images/k-means/kmeans13.png'>"
   ]
  },
  {
   "cell_type": "markdown",
   "metadata": {
    "colab_type": "text",
    "id": "pqdpyJjGX68_"
   },
   "source": [
    "### Good Cluster Analysis"
   ]
  },
  {
   "cell_type": "markdown",
   "metadata": {
    "colab_type": "text",
    "id": "y9Hv7nc_X69A"
   },
   "source": [
    "- __Data-points within same cluster share similar profile__: Statistically, check the standard deviation for each input variable in each cluster. A perfect separation in case of cluster analysis is rarely achieved. Hence, even __one standard deviation__ distance between two cluster means is considered to be a good separation.\n",
    "- __Well spread proportion of data-points among clusters__: There are no standards for this requirement. But a minimum of 5% and maximum of 35% of the total population can be assumed as a safe range for each cluster."
   ]
  },
  {
   "cell_type": "markdown",
   "metadata": {
    "colab_type": "text",
    "id": "aEMC2GmsX69A"
   },
   "source": [
    "## Use Case : Women E-Commerce Clothing Reviews"
   ]
  },
  {
   "cell_type": "markdown",
   "metadata": {
    "_uuid": "e2c87441a9ccc20bdddbbc453912d7e3428a0265",
    "colab_type": "text",
    "id": "Kz_cKoBjX69B"
   },
   "source": [
    "# Consumer Segmentation\n",
    "Consumer segmentation is the practice of dividing a customer base into groups. In each of these groups the individuals are similar to each other in some ways. This practice allows a business to create a group specific campaign or digital advertisement. This not only increases the effectiveness of the business's marketing efforts, it helps in reducing the marketing costs by reducing spends on certain audience groups that might react differently to a campaign. Segmentation also enables businesses to focus marketing activities more on certain platforms based on the characteristics of the segments.\n",
    "Though segmentation is used to create homogenous groups of individuals, we will use it to understand consumer behaviour in this notebook."
   ]
  },
  {
   "cell_type": "markdown",
   "metadata": {
    "_uuid": "70d49c9db043c4f76dcb76ef0184e537d3611302",
    "colab_type": "text",
    "id": "t_LH5eSMX69B"
   },
   "source": [
    "<img src = 'https://raw.githubusercontent.com/insaid2018/Term-3/master/Images/k-means/kmeans14.gif'>"
   ]
  },
  {
   "cell_type": "markdown",
   "metadata": {
    "_uuid": "338ca0bf62b3da15e4f3d6f0455ba1f2ba372bf3",
    "colab_type": "text",
    "id": "bFej2jjdX69C"
   },
   "source": [
    "In this script, we look at one of the most popular  segmentation algorithms; the k-means clustering algorithm.  k-means clustering is an *unsupervised learning* algorithm that groups data into $K$ number of sets by using an iterative process. For each cluster, the centroid is chosen in such a way that the distance between the centroid and the data points in the cluster is minimized. Before we carry on, we drop variables that are nominal in nature. We also try to convert the review text to sentiment scores as K Means only works with numerical data.\n",
    "\n",
    "# Library Load\n",
    "\n",
    "Here we will be using the pandas library to do data processing. The sklearn modules also help with necessary scaling of variables.\n",
    "\n",
    "<img src = 'https://raw.githubusercontent.com/insaid2018/Term-3/master/Images/k-means/kmeans15.gif'>\n"
   ]
  },
  {
   "cell_type": "code",
   "execution_count": 1,
   "metadata": {
    "_uuid": "91e92cfe7c72c4d6f93d3e80ac69b6f8a7fec335",
    "colab": {},
    "colab_type": "code",
    "id": "q_MFRO6mX69C"
   },
   "outputs": [
    {
     "name": "stderr",
     "output_type": "stream",
     "text": [
      "C:\\Anaconda3\\lib\\site-packages\\statsmodels\\tools\\_testing.py:19: FutureWarning: pandas.util.testing is deprecated. Use the functions in the public API at pandas.testing instead.\n",
      "  import pandas.util.testing as tm\n"
     ]
    }
   ],
   "source": [
    "import pandas as pd\n",
    "import numpy as np\n",
    "from sklearn.cluster import KMeans\n",
    "from sklearn.preprocessing import LabelEncoder\n",
    "from sklearn.preprocessing import StandardScaler\n",
    "from sklearn.preprocessing import MinMaxScaler\n",
    "from sklearn.mixture import GaussianMixture #For GMM clustering\n",
    "import seaborn as sns\n",
    "import matplotlib.pyplot as plt\n",
    "\n",
    "%matplotlib inline\n"
   ]
  },
  {
   "cell_type": "code",
   "execution_count": 4,
   "metadata": {
    "_uuid": "b3abbb005f8df5ef7f3997d470e7503cc3551dbe",
    "colab": {},
    "colab_type": "code",
    "id": "4hTbft_ZX69F",
    "outputId": "61759761-323d-48ff-c9f9-9090188d5f90"
   },
   "outputs": [
    {
     "name": "stdout",
     "output_type": "stream",
     "text": [
      "Unnamed: 0                  int64\n",
      "Clothing ID                 int64\n",
      "Age                         int64\n",
      "Title                      object\n",
      "Review Text                object\n",
      "Rating                      int64\n",
      "Recommended IND             int64\n",
      "Positive Feedback Count     int64\n",
      "Division Name              object\n",
      "Department Name            object\n",
      "Class Name                 object\n",
      "dtype: object\n"
     ]
    },
    {
     "data": {
      "text/html": [
       "<div>\n",
       "<style scoped>\n",
       "    .dataframe tbody tr th:only-of-type {\n",
       "        vertical-align: middle;\n",
       "    }\n",
       "\n",
       "    .dataframe tbody tr th {\n",
       "        vertical-align: top;\n",
       "    }\n",
       "\n",
       "    .dataframe thead th {\n",
       "        text-align: right;\n",
       "    }\n",
       "</style>\n",
       "<table border=\"1\" class=\"dataframe\">\n",
       "  <thead>\n",
       "    <tr style=\"text-align: right;\">\n",
       "      <th></th>\n",
       "      <th>Unnamed: 0</th>\n",
       "      <th>Clothing ID</th>\n",
       "      <th>Age</th>\n",
       "      <th>Title</th>\n",
       "      <th>Review Text</th>\n",
       "      <th>Rating</th>\n",
       "      <th>Recommended IND</th>\n",
       "      <th>Positive Feedback Count</th>\n",
       "      <th>Division Name</th>\n",
       "      <th>Department Name</th>\n",
       "      <th>Class Name</th>\n",
       "    </tr>\n",
       "  </thead>\n",
       "  <tbody>\n",
       "    <tr>\n",
       "      <th>2</th>\n",
       "      <td>2</td>\n",
       "      <td>1077</td>\n",
       "      <td>60</td>\n",
       "      <td>Some major design flaws</td>\n",
       "      <td>I had such high hopes for this dress and reall...</td>\n",
       "      <td>3</td>\n",
       "      <td>0</td>\n",
       "      <td>0</td>\n",
       "      <td>General</td>\n",
       "      <td>Dresses</td>\n",
       "      <td>Dresses</td>\n",
       "    </tr>\n",
       "    <tr>\n",
       "      <th>3</th>\n",
       "      <td>3</td>\n",
       "      <td>1049</td>\n",
       "      <td>50</td>\n",
       "      <td>My favorite buy!</td>\n",
       "      <td>I love, love, love this jumpsuit. it's fun, fl...</td>\n",
       "      <td>5</td>\n",
       "      <td>1</td>\n",
       "      <td>0</td>\n",
       "      <td>General Petite</td>\n",
       "      <td>Bottoms</td>\n",
       "      <td>Pants</td>\n",
       "    </tr>\n",
       "    <tr>\n",
       "      <th>4</th>\n",
       "      <td>4</td>\n",
       "      <td>847</td>\n",
       "      <td>47</td>\n",
       "      <td>Flattering shirt</td>\n",
       "      <td>This shirt is very flattering to all due to th...</td>\n",
       "      <td>5</td>\n",
       "      <td>1</td>\n",
       "      <td>6</td>\n",
       "      <td>General</td>\n",
       "      <td>Tops</td>\n",
       "      <td>Blouses</td>\n",
       "    </tr>\n",
       "    <tr>\n",
       "      <th>5</th>\n",
       "      <td>5</td>\n",
       "      <td>1080</td>\n",
       "      <td>49</td>\n",
       "      <td>Not for the very petite</td>\n",
       "      <td>I love tracy reese dresses, but this one is no...</td>\n",
       "      <td>2</td>\n",
       "      <td>0</td>\n",
       "      <td>4</td>\n",
       "      <td>General</td>\n",
       "      <td>Dresses</td>\n",
       "      <td>Dresses</td>\n",
       "    </tr>\n",
       "    <tr>\n",
       "      <th>6</th>\n",
       "      <td>6</td>\n",
       "      <td>858</td>\n",
       "      <td>39</td>\n",
       "      <td>Cagrcoal shimmer fun</td>\n",
       "      <td>I aded this in my basket at hte last mintue to...</td>\n",
       "      <td>5</td>\n",
       "      <td>1</td>\n",
       "      <td>1</td>\n",
       "      <td>General Petite</td>\n",
       "      <td>Tops</td>\n",
       "      <td>Knits</td>\n",
       "    </tr>\n",
       "  </tbody>\n",
       "</table>\n",
       "</div>"
      ],
      "text/plain": [
       "   Unnamed: 0  Clothing ID  Age                    Title  \\\n",
       "2           2         1077   60  Some major design flaws   \n",
       "3           3         1049   50         My favorite buy!   \n",
       "4           4          847   47         Flattering shirt   \n",
       "5           5         1080   49  Not for the very petite   \n",
       "6           6          858   39     Cagrcoal shimmer fun   \n",
       "\n",
       "                                         Review Text  Rating  Recommended IND  \\\n",
       "2  I had such high hopes for this dress and reall...       3                0   \n",
       "3  I love, love, love this jumpsuit. it's fun, fl...       5                1   \n",
       "4  This shirt is very flattering to all due to th...       5                1   \n",
       "5  I love tracy reese dresses, but this one is no...       2                0   \n",
       "6  I aded this in my basket at hte last mintue to...       5                1   \n",
       "\n",
       "   Positive Feedback Count   Division Name Department Name Class Name  \n",
       "2                        0         General         Dresses    Dresses  \n",
       "3                        0  General Petite         Bottoms      Pants  \n",
       "4                        6         General            Tops    Blouses  \n",
       "5                        4         General         Dresses    Dresses  \n",
       "6                        1  General Petite            Tops      Knits  "
      ]
     },
     "execution_count": 4,
     "metadata": {},
     "output_type": "execute_result"
    }
   ],
   "source": [
    "review_data = pd.read_csv(\"https://raw.githubusercontent.com/insaid2018/Term-3/master/Data/CaseStudy/Womens%20Clothing%20E-Commerce%20Reviews.csv\")\n",
    "review_data.dropna(inplace=True)\n",
    "# review_data=review_data.drop(['Unnamed: 0', 'Clothing ID'],axis=1)\n",
    "print(review_data.dtypes)\n",
    "review_data.head(5)"
   ]
  },
  {
   "cell_type": "markdown",
   "metadata": {
    "_uuid": "e2aa9b7be1f180c81503c913b59217df31077bba",
    "colab_type": "text",
    "id": "OPKEKyrfX69J"
   },
   "source": [
    "* In the next portion of the notebook we remove all the categorical variables."
   ]
  },
  {
   "cell_type": "code",
   "execution_count": 5,
   "metadata": {
    "_uuid": "b4f571f8085f65113dc83e168b4ac46772eb57c0",
    "colab": {},
    "colab_type": "code",
    "id": "iG6lM253X69K"
   },
   "outputs": [],
   "source": [
    "# remove all the columns that are categorical variables\n",
    "review_data_k_means=review_data.drop(['Unnamed: 0', 'Clothing ID','Class Name','Department Name','Title','Division Name','Recommended IND'],axis=1)"
   ]
  },
  {
   "cell_type": "markdown",
   "metadata": {
    "_uuid": "e470ca22e6d4eafbdd9f07dbe634454620412f51",
    "colab_type": "raw",
    "id": "jsDJ7I95X69L"
   },
   "source": [
    "# converting review text to sentiment score\n",
    "\n",
    "from afinn import Afinn\n",
    "\n",
    "afinn= Afinn()\n",
    "\n",
    "review_data_k_means['Review Text'] = review_data_k_means['Review Text'].str.lower()\n",
    "\n",
    "review_data_k_means['sent_score'] = review_data_k_means.apply(lambda row: afinn.score(row['Review Text']), axis=1)\n",
    "\n",
    "sent_score = review_data_k_means['sent_score'].values\n",
    "\n",
    "with open(\"sent.txt\", \"wb\") as fp:   #Pickling\n",
    "\n",
    "    pickle.dump(sent_score, fp)\n",
    "\n",
    "with open(\"sent.txt\", \"rb\") as fp:   # Unpickling\n",
    "    \n",
    "    b = pickle.load(fp)\n",
    "\n",
    "#print(b)\n",
    "\n",
    "\n",
    "\n",
    "\n",
    "\n",
    "\n",
    "\n",
    "## adding the minimum value of sentiment score so as to remove negative sentiment scores\n",
    "\n",
    "\n",
    "\n",
    "\n",
    "\n"
   ]
  },
  {
   "cell_type": "markdown",
   "metadata": {
    "_uuid": "09aff0cfd856c97f16cb380f9781c0cb9a685d50",
    "colab_type": "text",
    "id": "T8-MBst5X69M"
   },
   "source": [
    "Each product has a text review associated with it. Text can be converted to a numerical value using sentiment scores. One way to do this is to use predefined sentiment lexicons and match them accordingly. For this example, we will use the AFINN lexicon.\n",
    "\n",
    "As the Afinn library is not available on Kaggle, I have tried to post this portion of the code in raw format. A negative value denotes negative sentiment and a positive score indicates positive sentiments. The scores that are returned are then stored in a `.txt` format and called using the `pickle.load` function as seen below."
   ]
  },
  {
   "cell_type": "markdown",
   "metadata": {
    "colab_type": "text",
    "id": "s3ZoDvR_4BZj"
   },
   "source": [
    "**Download the file *sent.txt* from the below link and copy the file to your working director.**"
   ]
  },
  {
   "cell_type": "markdown",
   "metadata": {
    "colab_type": "text",
    "id": "DygnZ_F_X69M"
   },
   "source": [
    "https://github.com/insaid2018/Term-3/blob/master/Data/CaseStudy/sent.txt?raw=true"
   ]
  },
  {
   "cell_type": "code",
   "execution_count": 7,
   "metadata": {
    "_uuid": "6981363194e374f8b53c16a154053a2c002fd73f",
    "colab": {},
    "colab_type": "code",
    "id": "sdWiHyt0X69N"
   },
   "outputs": [],
   "source": [
    "## adding the minimum value of sentiment score so as to remove negative sentiment scores\n",
    "\n",
    "\n",
    "import pickle\n",
    "\n",
    "with open(\"09.Case-study-sent.txt\", \"rb\") as fp:   # Unpickling\n",
    "    b = pickle.load(fp)\n",
    "\n",
    "b\n",
    "\n",
    "review_data_k_means['sent_score'] = b\n",
    "\n",
    "\n",
    "min_sent = abs(np.min(review_data_k_means['sent_score']))\n",
    "review_data_k_means['sent_score'] =  review_data_k_means['sent_score'] + abs(np.min(review_data_k_means['sent_score']))\n",
    "review_data_k_means.drop('Review Text',axis=1,inplace=True)\n",
    "\n"
   ]
  },
  {
   "cell_type": "markdown",
   "metadata": {
    "_uuid": "f2165bc244bc926215ea38e0afdd60557347824b",
    "colab_type": "text",
    "id": "zfBLsFfzX69P"
   },
   "source": [
    "Before doing any further processing , we need to check how each of our variables are distributed."
   ]
  },
  {
   "cell_type": "code",
   "execution_count": 8,
   "metadata": {
    "_uuid": "3bce5075c71c4cc7c4003535e8ecbd789a5b41e2",
    "colab": {},
    "colab_type": "code",
    "id": "IQ4WL258X69P",
    "outputId": "61223e4c-a722-4884-981d-59efde741010"
   },
   "outputs": [
    {
     "data": {
      "image/png": "[encoded data removed]",
      "text/plain": [
       "<Figure size 432x288 with 1 Axes>"
      ]
     },
     "metadata": {},
     "output_type": "display_data"
    },
    {
     "data": {
      "image/png": "[encoded data removed]",
      "text/plain": [
       "<Figure size 432x288 with 1 Axes>"
      ]
     },
     "metadata": {},
     "output_type": "display_data"
    },
    {
     "data": {
      "image/png": "[encoded data removed]",
      "text/plain": [
       "<Figure size 432x288 with 1 Axes>"
      ]
     },
     "metadata": {},
     "output_type": "display_data"
    },
    {
     "data": {
      "image/png": "[encoded data removed]",
      "text/plain": [
       "<Figure size 432x288 with 1 Axes>"
      ]
     },
     "metadata": {},
     "output_type": "display_data"
    }
   ],
   "source": [
    "sns.set_style('darkgrid')\n",
    "plt.title('Distribution of Each Column in the Data')\n",
    "\n",
    "for i,col in enumerate(review_data_k_means.columns):\n",
    "    plt.figure(i)\n",
    "    sns.distplot(review_data_k_means[col])"
   ]
  },
  {
   "cell_type": "markdown",
   "metadata": {
    "_uuid": "2efdc692bfe1db3124541edab9bb53105743a297",
    "colab_type": "text",
    "id": "RxgvY6WPX69S"
   },
   "source": [
    "* A majority of the variables are not normally distributed. K Means algorithm do not handle skewed distributions well. To transform each variable to a normal distrbution, we use the log transformation transformation. To ensure that all values are positive, we add 1 to all values."
   ]
  },
  {
   "cell_type": "code",
   "execution_count": 9,
   "metadata": {
    "_uuid": "2ec08646502e7db0169947058c1a137f7355eacf",
    "colab": {},
    "colab_type": "code",
    "id": "lTokJ1jiX69S",
    "outputId": "29cfcfc5-22e9-4b90-dbfe-ca56b63a0644"
   },
   "outputs": [
    {
     "data": {
      "image/png": "[encoded data removed]",
      "text/plain": [
       "<Figure size 432x288 with 1 Axes>"
      ]
     },
     "metadata": {},
     "output_type": "display_data"
    },
    {
     "data": {
      "image/png": "[encoded data removed]",
      "text/plain": [
       "<Figure size 432x288 with 1 Axes>"
      ]
     },
     "metadata": {},
     "output_type": "display_data"
    },
    {
     "data": {
      "image/png": "[encoded data removed]",
      "text/plain": [
       "<Figure size 432x288 with 1 Axes>"
      ]
     },
     "metadata": {},
     "output_type": "display_data"
    },
    {
     "data": {
      "image/png": "[encoded data removed]",
      "text/plain": [
       "<Figure size 432x288 with 1 Axes>"
      ]
     },
     "metadata": {},
     "output_type": "display_data"
    }
   ],
   "source": [
    "# box cox transform can help with the skewed transformation\n",
    "from scipy.stats import boxcox\n",
    "tmp = review_data_k_means \n",
    "# adding one to each data variable to make it positive\n",
    "tmp = tmp+1\n",
    "for i in tmp.columns:\n",
    "    tmp[i]=np.log(tmp[i])\n",
    "# log modified data    \n",
    "review_data_mod = tmp\n",
    "# checking the distributions after transforming\n",
    "sns.set_style('darkgrid')\n",
    "plt.title('Distribution of Each Column in the Data')\n",
    "\n",
    "for i,col in enumerate(review_data_mod.columns):\n",
    "    plt.figure(i)\n",
    "    sns.distplot(review_data_mod[col])\n",
    "\n",
    "\n",
    "# just take age and sent score - the variables that display a nearly normal distribution\n",
    "\n",
    "#review_data_mod = review_data_mod[['Age','sent_score']]\n",
    "\n"
   ]
  },
  {
   "cell_type": "markdown",
   "metadata": {
    "_uuid": "eb19e952b5a7880dbaf12da554faa51a7a9b519f",
    "colab_type": "text",
    "id": "5qUow5BJX69U"
   },
   "source": [
    "**After the log  transformation, the sent_score variable and Age variable seem to have a normal like distribution. We will drop the other variables.**\n",
    "\n",
    "*As each variable scales differently, it is essential to bring them to a common scale.\n",
    "We use z scaling here for this very purpose . The z score tells us how far each data point is from the mean in terms of standard deviations.*"
   ]
  },
  {
   "cell_type": "code",
   "execution_count": 10,
   "metadata": {
    "_uuid": "4e004b13201ab535655988e098488d99319a3af8",
    "colab": {},
    "colab_type": "code",
    "id": "xkVzAgO_X69V"
   },
   "outputs": [],
   "source": [
    "review_data_mod = review_data_mod[['Age','sent_score']]\n",
    "\n",
    "from scipy import stats\n",
    "review_data_std = stats.zscore(review_data_mod)\n",
    "review_data_std = np.array(review_data_std)\n"
   ]
  },
  {
   "cell_type": "markdown",
   "metadata": {
    "_uuid": "e8e02e07f6e1b31789c97566a2464c70cc5954f0",
    "colab_type": "text",
    "id": "JKOKLF1EX69Y"
   },
   "source": [
    "# Elbow Method\n",
    "After normalization, we need to choose the optimal number of clusters so as to get a good within cluster score.To achieve that we iterate through different K values and plot the total within cluster distances for each K value. We choose the K value that causes a sharp drop in total within cluster distance. This drop often resembles an \"Elbow\"."
   ]
  },
  {
   "cell_type": "code",
   "execution_count": 11,
   "metadata": {
    "_uuid": "13a0f0609f7c229d71f713bf3234defb9adaa22f",
    "colab": {},
    "colab_type": "code",
    "id": "0TszsJptX69Y",
    "outputId": "d2150591-3be6-47b4-d034-8b45fb7a1354"
   },
   "outputs": [
    {
     "data": {
      "image/png": "[encoded data removed]",
      "text/plain": [
       "<Figure size 432x288 with 1 Axes>"
      ]
     },
     "metadata": {},
     "output_type": "display_data"
    }
   ],
   "source": [
    "# This snippet is sourced from https://www.kaggle.com/mariadobreva/k-means-clustering-in-python\n",
    "# also refer to https://stackoverflow.com/questions/32370543/understanding-score-returned-by-scikit-learn-kmeans/32371258\n",
    "import pylab as pl\n",
    "number_of_clusters = range(1,20)\n",
    "kmeans = [KMeans(n_clusters=i,max_iter=1000,random_state=42) for i in number_of_clusters]\n",
    "score = [-1*kmeans[i].fit(review_data_std).score(review_data_std) for i in range(len(kmeans))]\n",
    "pl.plot((number_of_clusters),score)\n",
    "pl.xlabel('Number of Clusters')\n",
    "pl.ylabel('Score')\n",
    "pl.title('Elbow Curve')\n",
    "pl.show()"
   ]
  },
  {
   "cell_type": "markdown",
   "metadata": {
    "_uuid": "014a859fabc917a29684446959cad883fc6db685",
    "colab_type": "text",
    "id": "D_tcx-5hX69a"
   },
   "source": [
    "Even though the \"elbow\" is located at $K=3$, we will use  $K=6$ for better explanation of the data."
   ]
  },
  {
   "cell_type": "code",
   "execution_count": 12,
   "metadata": {
    "_uuid": "db027c83848561f70efbb93bf25e551a0df0e936",
    "colab": {},
    "colab_type": "code",
    "id": "5Pk9s9saX69a"
   },
   "outputs": [],
   "source": [
    "k_means_test = KMeans(n_clusters=6,max_iter=1000,random_state=42)"
   ]
  },
  {
   "cell_type": "code",
   "execution_count": 13,
   "metadata": {
    "_uuid": "5b67075862bbeb012f14851122b370ee17e3dfa8",
    "colab": {},
    "colab_type": "code",
    "id": "wOpN9bd-X69k",
    "outputId": "fae054b2-4368-4832-8142-9ebe41a8e47d"
   },
   "outputs": [
    {
     "data": {
      "text/plain": [
       "9863.263965250277"
      ]
     },
     "execution_count": 13,
     "metadata": {},
     "output_type": "execute_result"
    }
   ],
   "source": [
    "-1*k_means_test.fit(review_data_std).score(review_data_std)"
   ]
  },
  {
   "cell_type": "code",
   "execution_count": 14,
   "metadata": {
    "_uuid": "97f8485f50c311461581a62da19fd39d7d46ffe9",
    "colab": {},
    "colab_type": "code",
    "id": "6ywVUSGmX69m"
   },
   "outputs": [],
   "source": [
    "review_data_k_means['labels'] = k_means_test.labels_"
   ]
  },
  {
   "cell_type": "code",
   "execution_count": 15,
   "metadata": {
    "_uuid": "dd9289ba5fb3aab552b3cae92d75bfe6ce319744",
    "colab": {},
    "colab_type": "code",
    "id": "LYU0mN4qX69n",
    "outputId": "eb9d9a2b-75e9-45bd-9095-57ee4347f442"
   },
   "outputs": [
    {
     "name": "stdout",
     "output_type": "stream",
     "text": [
      "   labels  number_of_points  percentage\n",
      "0       0              4925    0.250483\n",
      "1       1              3346    0.170176\n",
      "2       2              2311    0.117536\n",
      "3       3              2957    0.150392\n",
      "4       4              2660    0.135286\n",
      "5       5              3463    0.176127\n"
     ]
    }
   ],
   "source": [
    "size_of_each_cluster = review_data_k_means.groupby('labels').size().reset_index()\n",
    "size_of_each_cluster.columns = ['labels','number_of_points']\n",
    "size_of_each_cluster['percentage'] = size_of_each_cluster['number_of_points']/np.sum(size_of_each_cluster['number_of_points'])\n",
    "\n",
    "print(size_of_each_cluster)"
   ]
  },
  {
   "cell_type": "markdown",
   "metadata": {
    "_uuid": "9d9e61d63ae6e8cebab82560eafba0ffed7dbcf3",
    "colab_type": "text",
    "id": "Zwh3EaaqX69p"
   },
   "source": [
    "* Label 0 has 25% of the the points. The rest of the labels have nearly equal percentage of data points.\n"
   ]
  },
  {
   "cell_type": "markdown",
   "metadata": {
    "_uuid": "ea7a3fb8eff4e5a9704259892c0a1ce3d765c30d",
    "colab_type": "text",
    "id": "lNlc6DnJX69q"
   },
   "source": [
    "# Making sense of each cluster\n",
    "To make sense of each cluster, we plot a grouped scatter chart with Age and sentiment score variables."
   ]
  },
  {
   "cell_type": "code",
   "execution_count": 18,
   "metadata": {
    "_uuid": "2a1d4679d2f54b232685ac88c82194d545260203",
    "colab": {},
    "colab_type": "code",
    "id": "xcPLTiWFX69q",
    "outputId": "5a11428c-7053-4f57-91b9-97a0afd991bf"
   },
   "outputs": [
    {
     "data": {
      "image/png": "[encoded data removed]",
      "text/plain": [
       "<Figure size 401.625x360 with 1 Axes>"
      ]
     },
     "metadata": {},
     "output_type": "display_data"
    }
   ],
   "source": [
    "# a look at Age and Sentiment Scores\n",
    "# we subtract the added absolute value of the minimum sentiment score\n",
    "review_data_k_means['sent_score'] = review_data_k_means['sent_score'] - min_sent\n",
    "sns.lmplot('Age','sent_score',data=review_data_k_means,hue='labels',fit_reg=False)\n",
    "plt.show()"
   ]
  },
  {
   "cell_type": "code",
   "execution_count": 19,
   "metadata": {
    "_uuid": "79f4d699ebe82e049176c0f2137e847ae27bc6e2",
    "colab": {},
    "colab_type": "code",
    "id": "92FWLXDYX69s",
    "outputId": "4e6e8f36-00bc-4c03-f4b3-b2842a942d5b"
   },
   "outputs": [
    {
     "data": {
      "image/png": "[encoded data removed]",
      "text/plain": [
       "<Figure size 1440x720 with 1 Axes>"
      ]
     },
     "metadata": {},
     "output_type": "display_data"
    },
    {
     "data": {
      "image/png": "[encoded data removed]",
      "text/plain": [
       "<Figure size 1440x720 with 1 Axes>"
      ]
     },
     "metadata": {},
     "output_type": "display_data"
    }
   ],
   "source": [
    "sent_score_labels = review_data_k_means[['sent_score','labels']]\n",
    "\n",
    "sent_score_labels.boxplot(by='labels',figsize=(20,10))\n",
    "plt.xticks(rotation=90)\n",
    "plt.show()\n",
    "\n",
    "\n",
    "age_labels = review_data_k_means[['labels','Age']]\n",
    "\n",
    "age_labels.boxplot(by='labels',figsize=(20,10))\n",
    "plt.xticks(rotation=90)\n",
    "plt.show()\n"
   ]
  },
  {
   "cell_type": "markdown",
   "metadata": {
    "_uuid": "817328b288e4ce5aaaa2dd0e9ac2da76077a15e8",
    "colab_type": "text",
    "id": "wOkxCLB0X69u"
   },
   "source": [
    "From the above box plots we get the following observations.\n",
    "\n",
    "\n",
    "**Labels**\n",
    "* Label 0 : Middle Age consumers consumer with fairly positive sentiments\n",
    "* Label 1 : Middle age consumers with relatively negative reviews\n",
    "* Label 2 : Older consumers who has had fairly positive reviews\n",
    "* Label 3 : Older  consumers who had positive reviews\n",
    "* Label 4 : Younger consumers who had faily positive reviews.\n",
    "* Label 5 : Fairly young consumer with positive reviews."
   ]
  },
  {
   "cell_type": "code",
   "execution_count": 21,
   "metadata": {},
   "outputs": [],
   "source": [
    "# !wget https://raw.githubusercontent.com/abromberg/sentiment_analysis/master/AFINN/AFINN-111.txt"
   ]
  },
  {
   "cell_type": "code",
   "execution_count": 23,
   "metadata": {},
   "outputs": [],
   "source": [
    "review_data = pd.read_csv(\"https://raw.githubusercontent.com/insaid2018/Term-3/master/Data/CaseStudy/Womens%20Clothing%20E-Commerce%20Reviews.csv\")\n",
    "review_data.dropna(inplace=True)"
   ]
  },
  {
   "cell_type": "code",
   "execution_count": 27,
   "metadata": {},
   "outputs": [
    {
     "name": "stdout",
     "output_type": "stream",
     "text": [
      "Age                         int64\n",
      "Review Text                object\n",
      "Rating                      int64\n",
      "Positive Feedback Count     int64\n",
      "dtype: object\n"
     ]
    },
    {
     "data": {
      "text/html": [
       "<div>\n",
       "<style scoped>\n",
       "    .dataframe tbody tr th:only-of-type {\n",
       "        vertical-align: middle;\n",
       "    }\n",
       "\n",
       "    .dataframe tbody tr th {\n",
       "        vertical-align: top;\n",
       "    }\n",
       "\n",
       "    .dataframe thead th {\n",
       "        text-align: right;\n",
       "    }\n",
       "</style>\n",
       "<table border=\"1\" class=\"dataframe\">\n",
       "  <thead>\n",
       "    <tr style=\"text-align: right;\">\n",
       "      <th></th>\n",
       "      <th>Age</th>\n",
       "      <th>Review Text</th>\n",
       "      <th>Rating</th>\n",
       "      <th>Positive Feedback Count</th>\n",
       "    </tr>\n",
       "  </thead>\n",
       "  <tbody>\n",
       "    <tr>\n",
       "      <th>2</th>\n",
       "      <td>60</td>\n",
       "      <td>I had such high hopes for this dress and reall...</td>\n",
       "      <td>3</td>\n",
       "      <td>0</td>\n",
       "    </tr>\n",
       "    <tr>\n",
       "      <th>3</th>\n",
       "      <td>50</td>\n",
       "      <td>I love, love, love this jumpsuit. it's fun, fl...</td>\n",
       "      <td>5</td>\n",
       "      <td>0</td>\n",
       "    </tr>\n",
       "    <tr>\n",
       "      <th>4</th>\n",
       "      <td>47</td>\n",
       "      <td>This shirt is very flattering to all due to th...</td>\n",
       "      <td>5</td>\n",
       "      <td>6</td>\n",
       "    </tr>\n",
       "    <tr>\n",
       "      <th>5</th>\n",
       "      <td>49</td>\n",
       "      <td>I love tracy reese dresses, but this one is no...</td>\n",
       "      <td>2</td>\n",
       "      <td>4</td>\n",
       "    </tr>\n",
       "    <tr>\n",
       "      <th>6</th>\n",
       "      <td>39</td>\n",
       "      <td>I aded this in my basket at hte last mintue to...</td>\n",
       "      <td>5</td>\n",
       "      <td>1</td>\n",
       "    </tr>\n",
       "  </tbody>\n",
       "</table>\n",
       "</div>"
      ],
      "text/plain": [
       "   Age                                        Review Text  Rating  \\\n",
       "2   60  I had such high hopes for this dress and reall...       3   \n",
       "3   50  I love, love, love this jumpsuit. it's fun, fl...       5   \n",
       "4   47  This shirt is very flattering to all due to th...       5   \n",
       "5   49  I love tracy reese dresses, but this one is no...       2   \n",
       "6   39  I aded this in my basket at hte last mintue to...       5   \n",
       "\n",
       "   Positive Feedback Count  \n",
       "2                        0  \n",
       "3                        0  \n",
       "4                        6  \n",
       "5                        4  \n",
       "6                        1  "
      ]
     },
     "execution_count": 27,
     "metadata": {},
     "output_type": "execute_result"
    }
   ],
   "source": [
    "# remove all the columns that are categorical variables\n",
    "review_data_k_means=review_data.drop(['Unnamed: 0', 'Clothing ID','Class Name','Department Name','Title','Division Name','Recommended IND'],axis=1)\n",
    "\n",
    "print(review_data_k_means.dtypes)\n",
    "review_data_k_means.head(5)"
   ]
  },
  {
   "cell_type": "code",
   "execution_count": 29,
   "metadata": {},
   "outputs": [],
   "source": [
    "with open(\"16.AFINN-111.txt\",'rb') as fp:\n",
    "  data = fp.read()"
   ]
  },
  {
   "cell_type": "code",
   "execution_count": 32,
   "metadata": {},
   "outputs": [
    {
     "data": {
      "text/plain": [
       "b'abandon\\t-2\\nabandoned\\t-2\\nabandons\\t-2\\nabducted\\t-2\\nabduction\\t-2\\nabductions\\t-2\\nabhor\\t-3\\nabhorred\\t-3\\nabho'"
      ]
     },
     "execution_count": 32,
     "metadata": {},
     "output_type": "execute_result"
    }
   ],
   "source": [
    "data[:100]"
   ]
  },
  {
   "cell_type": "code",
   "execution_count": 35,
   "metadata": {},
   "outputs": [
    {
     "data": {
      "text/plain": [
       "['abandoned', '-2']"
      ]
     },
     "execution_count": 35,
     "metadata": {},
     "output_type": "execute_result"
    }
   ],
   "source": [
    "str(data).split(\"\\\\n\")[1].split(\"\\\\t\")"
   ]
  },
  {
   "cell_type": "code",
   "execution_count": 36,
   "metadata": {},
   "outputs": [],
   "source": [
    "#!wget https://raw.githubusercontent.com/abromberg/sentiment_analysis/master/AFINN/AFINN-111.txt\n",
    "d= {}\n",
    "\n",
    "for each_element in str(data).split(\"\\\\n\"):\n",
    "  d[each_element.split(\"\\\\t\")[0]] = each_element.split(\"\\\\t\")[1]"
   ]
  },
  {
   "cell_type": "code",
   "execution_count": 37,
   "metadata": {},
   "outputs": [
    {
     "data": {
      "text/plain": [
       "-2"
      ]
     },
     "execution_count": 37,
     "metadata": {},
     "output_type": "execute_result"
    }
   ],
   "source": [
    "int(d['accusing'])"
   ]
  },
  {
   "cell_type": "code",
   "execution_count": 38,
   "metadata": {},
   "outputs": [],
   "source": [
    "import numpy as np\n",
    "def getSentiment(eachRow):\n",
    "  TotalSum = []\n",
    "  for eachWord in eachRow.split():\n",
    "    if eachWord.lower() in d:   # if it is found in the dictionary \n",
    "      TotalSum.append(int(d[eachWord.lower()]))\n",
    "    else:\n",
    "      TotalSum.append(0)\n",
    "  return np.sum(TotalSum)\n",
    "  # return TotalSum\n",
    "\n",
    "\n",
    "review_data_k_means['Sentiment'] = review_data_k_means['Review Text'].apply(getSentiment)"
   ]
  },
  {
   "cell_type": "code",
   "execution_count": 39,
   "metadata": {},
   "outputs": [],
   "source": [
    "# 1) To refer to standard Dictionary of english and compute the total sum \n",
    "# use amazing textblob library and get the sentiment directly  - run the whole code as assignment \n",
    "# 2) you upload the calculated sentiment and work on that."
   ]
  },
  {
   "cell_type": "code",
   "execution_count": 41,
   "metadata": {},
   "outputs": [],
   "source": [
    "from textblob import TextBlob\n",
    "\n",
    "def getSentimentTextBlob(eachRow):\n",
    "  return TextBlob(eachRow).sentiment.polarity\n",
    "\n",
    "review_data_k_means['Sentiment_textblob'] = review_data_k_means['Review Text'].apply(getSentimentTextBlob)"
   ]
  },
  {
   "cell_type": "code",
   "execution_count": 42,
   "metadata": {},
   "outputs": [
    {
     "data": {
      "text/html": [
       "<div>\n",
       "<style scoped>\n",
       "    .dataframe tbody tr th:only-of-type {\n",
       "        vertical-align: middle;\n",
       "    }\n",
       "\n",
       "    .dataframe tbody tr th {\n",
       "        vertical-align: top;\n",
       "    }\n",
       "\n",
       "    .dataframe thead th {\n",
       "        text-align: right;\n",
       "    }\n",
       "</style>\n",
       "<table border=\"1\" class=\"dataframe\">\n",
       "  <thead>\n",
       "    <tr style=\"text-align: right;\">\n",
       "      <th></th>\n",
       "      <th>Review Text</th>\n",
       "      <th>Sentiment</th>\n",
       "      <th>Sentiment_textblob</th>\n",
       "    </tr>\n",
       "  </thead>\n",
       "  <tbody>\n",
       "    <tr>\n",
       "      <th>2</th>\n",
       "      <td>I had such high hopes for this dress and reall...</td>\n",
       "      <td>7</td>\n",
       "      <td>0.073675</td>\n",
       "    </tr>\n",
       "    <tr>\n",
       "      <th>3</th>\n",
       "      <td>I love, love, love this jumpsuit. it's fun, fl...</td>\n",
       "      <td>6</td>\n",
       "      <td>0.550000</td>\n",
       "    </tr>\n",
       "    <tr>\n",
       "      <th>4</th>\n",
       "      <td>This shirt is very flattering to all due to th...</td>\n",
       "      <td>6</td>\n",
       "      <td>0.512891</td>\n",
       "    </tr>\n",
       "    <tr>\n",
       "      <th>5</th>\n",
       "      <td>I love tracy reese dresses, but this one is no...</td>\n",
       "      <td>7</td>\n",
       "      <td>0.178750</td>\n",
       "    </tr>\n",
       "    <tr>\n",
       "      <th>6</th>\n",
       "      <td>I aded this in my basket at hte last mintue to...</td>\n",
       "      <td>1</td>\n",
       "      <td>0.133750</td>\n",
       "    </tr>\n",
       "    <tr>\n",
       "      <th>...</th>\n",
       "      <td>...</td>\n",
       "      <td>...</td>\n",
       "      <td>...</td>\n",
       "    </tr>\n",
       "    <tr>\n",
       "      <th>23481</th>\n",
       "      <td>I was very happy to snag this dress at such a ...</td>\n",
       "      <td>6</td>\n",
       "      <td>0.552667</td>\n",
       "    </tr>\n",
       "    <tr>\n",
       "      <th>23482</th>\n",
       "      <td>It reminds me of maternity clothes. soft, stre...</td>\n",
       "      <td>2</td>\n",
       "      <td>0.091667</td>\n",
       "    </tr>\n",
       "    <tr>\n",
       "      <th>23483</th>\n",
       "      <td>This fit well, but the top was very see throug...</td>\n",
       "      <td>6</td>\n",
       "      <td>0.414286</td>\n",
       "    </tr>\n",
       "    <tr>\n",
       "      <th>23484</th>\n",
       "      <td>I bought this dress for a wedding i have this ...</td>\n",
       "      <td>6</td>\n",
       "      <td>0.322222</td>\n",
       "    </tr>\n",
       "    <tr>\n",
       "      <th>23485</th>\n",
       "      <td>This dress in a lovely platinum is feminine an...</td>\n",
       "      <td>4</td>\n",
       "      <td>0.413889</td>\n",
       "    </tr>\n",
       "  </tbody>\n",
       "</table>\n",
       "<p>19662 rows × 3 columns</p>\n",
       "</div>"
      ],
      "text/plain": [
       "                                             Review Text  Sentiment  \\\n",
       "2      I had such high hopes for this dress and reall...          7   \n",
       "3      I love, love, love this jumpsuit. it's fun, fl...          6   \n",
       "4      This shirt is very flattering to all due to th...          6   \n",
       "5      I love tracy reese dresses, but this one is no...          7   \n",
       "6      I aded this in my basket at hte last mintue to...          1   \n",
       "...                                                  ...        ...   \n",
       "23481  I was very happy to snag this dress at such a ...          6   \n",
       "23482  It reminds me of maternity clothes. soft, stre...          2   \n",
       "23483  This fit well, but the top was very see throug...          6   \n",
       "23484  I bought this dress for a wedding i have this ...          6   \n",
       "23485  This dress in a lovely platinum is feminine an...          4   \n",
       "\n",
       "       Sentiment_textblob  \n",
       "2                0.073675  \n",
       "3                0.550000  \n",
       "4                0.512891  \n",
       "5                0.178750  \n",
       "6                0.133750  \n",
       "...                   ...  \n",
       "23481            0.552667  \n",
       "23482            0.091667  \n",
       "23483            0.414286  \n",
       "23484            0.322222  \n",
       "23485            0.413889  \n",
       "\n",
       "[19662 rows x 3 columns]"
      ]
     },
     "execution_count": 42,
     "metadata": {},
     "output_type": "execute_result"
    }
   ],
   "source": [
    "# this is a vary Naive approch of caluclating Sentiment (using AFINN)\n",
    "review_data_k_means[['Review Text','Sentiment','Sentiment_textblob']]"
   ]
  },
  {
   "cell_type": "code",
   "execution_count": 43,
   "metadata": {},
   "outputs": [],
   "source": [
    "## adding the minimum value of sentiment score so as to remove negative sentiment scores\n",
    "\n",
    "# file : https://github.com/insaid2018/Term-3/blob/master/Data/CaseStudy/sent.txt\n",
    "import pickle\n",
    "\n",
    "with open(\"09.Case-study-sent.txt\", \"rb\") as fp:   # Unpickling\n",
    "    b = pickle.load(fp)\n",
    "\n",
    "review_data_k_means['sent_score'] = b\n",
    "\n",
    "#min_sent = abs(np.min(review_data_k_means['sent_score']))\n",
    "# review_data_k_means['sent_score'] =  review_data_k_means['sent_score'] + min_sent"
   ]
  },
  {
   "cell_type": "code",
   "execution_count": 44,
   "metadata": {},
   "outputs": [
    {
     "data": {
      "text/html": [
       "<div>\n",
       "<style scoped>\n",
       "    .dataframe tbody tr th:only-of-type {\n",
       "        vertical-align: middle;\n",
       "    }\n",
       "\n",
       "    .dataframe tbody tr th {\n",
       "        vertical-align: top;\n",
       "    }\n",
       "\n",
       "    .dataframe thead th {\n",
       "        text-align: right;\n",
       "    }\n",
       "</style>\n",
       "<table border=\"1\" class=\"dataframe\">\n",
       "  <thead>\n",
       "    <tr style=\"text-align: right;\">\n",
       "      <th></th>\n",
       "      <th>Age</th>\n",
       "      <th>Review Text</th>\n",
       "      <th>Rating</th>\n",
       "      <th>Positive Feedback Count</th>\n",
       "      <th>Sentiment</th>\n",
       "      <th>Sentiment_textblob</th>\n",
       "      <th>sent_score</th>\n",
       "    </tr>\n",
       "  </thead>\n",
       "  <tbody>\n",
       "    <tr>\n",
       "      <th>2</th>\n",
       "      <td>60</td>\n",
       "      <td>I had such high hopes for this dress and reall...</td>\n",
       "      <td>3</td>\n",
       "      <td>0</td>\n",
       "      <td>7</td>\n",
       "      <td>0.073675</td>\n",
       "      <td>5.0</td>\n",
       "    </tr>\n",
       "    <tr>\n",
       "      <th>3</th>\n",
       "      <td>50</td>\n",
       "      <td>I love, love, love this jumpsuit. it's fun, fl...</td>\n",
       "      <td>5</td>\n",
       "      <td>0</td>\n",
       "      <td>6</td>\n",
       "      <td>0.550000</td>\n",
       "      <td>22.0</td>\n",
       "    </tr>\n",
       "    <tr>\n",
       "      <th>4</th>\n",
       "      <td>47</td>\n",
       "      <td>This shirt is very flattering to all due to th...</td>\n",
       "      <td>5</td>\n",
       "      <td>6</td>\n",
       "      <td>6</td>\n",
       "      <td>0.512891</td>\n",
       "      <td>6.0</td>\n",
       "    </tr>\n",
       "    <tr>\n",
       "      <th>5</th>\n",
       "      <td>49</td>\n",
       "      <td>I love tracy reese dresses, but this one is no...</td>\n",
       "      <td>2</td>\n",
       "      <td>4</td>\n",
       "      <td>7</td>\n",
       "      <td>0.178750</td>\n",
       "      <td>7.0</td>\n",
       "    </tr>\n",
       "    <tr>\n",
       "      <th>6</th>\n",
       "      <td>39</td>\n",
       "      <td>I aded this in my basket at hte last mintue to...</td>\n",
       "      <td>5</td>\n",
       "      <td>1</td>\n",
       "      <td>1</td>\n",
       "      <td>0.133750</td>\n",
       "      <td>-3.0</td>\n",
       "    </tr>\n",
       "  </tbody>\n",
       "</table>\n",
       "</div>"
      ],
      "text/plain": [
       "   Age                                        Review Text  Rating  \\\n",
       "2   60  I had such high hopes for this dress and reall...       3   \n",
       "3   50  I love, love, love this jumpsuit. it's fun, fl...       5   \n",
       "4   47  This shirt is very flattering to all due to th...       5   \n",
       "5   49  I love tracy reese dresses, but this one is no...       2   \n",
       "6   39  I aded this in my basket at hte last mintue to...       5   \n",
       "\n",
       "   Positive Feedback Count  Sentiment  Sentiment_textblob  sent_score  \n",
       "2                        0          7            0.073675         5.0  \n",
       "3                        0          6            0.550000        22.0  \n",
       "4                        6          6            0.512891         6.0  \n",
       "5                        4          7            0.178750         7.0  \n",
       "6                        1          1            0.133750        -3.0  "
      ]
     },
     "execution_count": 44,
     "metadata": {},
     "output_type": "execute_result"
    }
   ],
   "source": [
    "review_data_k_means.head()"
   ]
  },
  {
   "cell_type": "code",
   "execution_count": 45,
   "metadata": {},
   "outputs": [
    {
     "data": {
      "text/html": [
       "<div>\n",
       "<style scoped>\n",
       "    .dataframe tbody tr th:only-of-type {\n",
       "        vertical-align: middle;\n",
       "    }\n",
       "\n",
       "    .dataframe tbody tr th {\n",
       "        vertical-align: top;\n",
       "    }\n",
       "\n",
       "    .dataframe thead th {\n",
       "        text-align: right;\n",
       "    }\n",
       "</style>\n",
       "<table border=\"1\" class=\"dataframe\">\n",
       "  <thead>\n",
       "    <tr style=\"text-align: right;\">\n",
       "      <th></th>\n",
       "      <th>Age</th>\n",
       "      <th>Rating</th>\n",
       "      <th>Positive Feedback Count</th>\n",
       "      <th>Sentiment</th>\n",
       "      <th>Sentiment_textblob</th>\n",
       "      <th>sent_score</th>\n",
       "    </tr>\n",
       "  </thead>\n",
       "  <tbody>\n",
       "    <tr>\n",
       "      <th>2</th>\n",
       "      <td>60</td>\n",
       "      <td>3</td>\n",
       "      <td>0</td>\n",
       "      <td>7</td>\n",
       "      <td>0.073675</td>\n",
       "      <td>5.0</td>\n",
       "    </tr>\n",
       "    <tr>\n",
       "      <th>3</th>\n",
       "      <td>50</td>\n",
       "      <td>5</td>\n",
       "      <td>0</td>\n",
       "      <td>6</td>\n",
       "      <td>0.550000</td>\n",
       "      <td>22.0</td>\n",
       "    </tr>\n",
       "    <tr>\n",
       "      <th>4</th>\n",
       "      <td>47</td>\n",
       "      <td>5</td>\n",
       "      <td>6</td>\n",
       "      <td>6</td>\n",
       "      <td>0.512891</td>\n",
       "      <td>6.0</td>\n",
       "    </tr>\n",
       "    <tr>\n",
       "      <th>5</th>\n",
       "      <td>49</td>\n",
       "      <td>2</td>\n",
       "      <td>4</td>\n",
       "      <td>7</td>\n",
       "      <td>0.178750</td>\n",
       "      <td>7.0</td>\n",
       "    </tr>\n",
       "    <tr>\n",
       "      <th>6</th>\n",
       "      <td>39</td>\n",
       "      <td>5</td>\n",
       "      <td>1</td>\n",
       "      <td>1</td>\n",
       "      <td>0.133750</td>\n",
       "      <td>-3.0</td>\n",
       "    </tr>\n",
       "  </tbody>\n",
       "</table>\n",
       "</div>"
      ],
      "text/plain": [
       "   Age  Rating  Positive Feedback Count  Sentiment  Sentiment_textblob  \\\n",
       "2   60       3                        0          7            0.073675   \n",
       "3   50       5                        0          6            0.550000   \n",
       "4   47       5                        6          6            0.512891   \n",
       "5   49       2                        4          7            0.178750   \n",
       "6   39       5                        1          1            0.133750   \n",
       "\n",
       "   sent_score  \n",
       "2         5.0  \n",
       "3        22.0  \n",
       "4         6.0  \n",
       "5         7.0  \n",
       "6        -3.0  "
      ]
     },
     "execution_count": 45,
     "metadata": {},
     "output_type": "execute_result"
    }
   ],
   "source": [
    "review_data_k_means.drop('Review Text',axis=1,inplace=True)\n",
    "review_data_k_means.head()"
   ]
  },
  {
   "cell_type": "code",
   "execution_count": 46,
   "metadata": {},
   "outputs": [
    {
     "data": {
      "text/html": [
       "<div>\n",
       "<style scoped>\n",
       "    .dataframe tbody tr th:only-of-type {\n",
       "        vertical-align: middle;\n",
       "    }\n",
       "\n",
       "    .dataframe tbody tr th {\n",
       "        vertical-align: top;\n",
       "    }\n",
       "\n",
       "    .dataframe thead th {\n",
       "        text-align: right;\n",
       "    }\n",
       "</style>\n",
       "<table border=\"1\" class=\"dataframe\">\n",
       "  <thead>\n",
       "    <tr style=\"text-align: right;\">\n",
       "      <th></th>\n",
       "      <th>Age</th>\n",
       "      <th>Rating</th>\n",
       "      <th>Positive Feedback Count</th>\n",
       "      <th>Sentiment</th>\n",
       "      <th>Sentiment_textblob</th>\n",
       "      <th>sent_score</th>\n",
       "      <th>Sentiment_Norm</th>\n",
       "    </tr>\n",
       "  </thead>\n",
       "  <tbody>\n",
       "    <tr>\n",
       "      <th>2</th>\n",
       "      <td>60</td>\n",
       "      <td>3</td>\n",
       "      <td>0</td>\n",
       "      <td>7</td>\n",
       "      <td>0.073675</td>\n",
       "      <td>5.0</td>\n",
       "      <td>0.441860</td>\n",
       "    </tr>\n",
       "    <tr>\n",
       "      <th>3</th>\n",
       "      <td>50</td>\n",
       "      <td>5</td>\n",
       "      <td>0</td>\n",
       "      <td>6</td>\n",
       "      <td>0.550000</td>\n",
       "      <td>22.0</td>\n",
       "      <td>0.418605</td>\n",
       "    </tr>\n",
       "    <tr>\n",
       "      <th>4</th>\n",
       "      <td>47</td>\n",
       "      <td>5</td>\n",
       "      <td>6</td>\n",
       "      <td>6</td>\n",
       "      <td>0.512891</td>\n",
       "      <td>6.0</td>\n",
       "      <td>0.418605</td>\n",
       "    </tr>\n",
       "    <tr>\n",
       "      <th>5</th>\n",
       "      <td>49</td>\n",
       "      <td>2</td>\n",
       "      <td>4</td>\n",
       "      <td>7</td>\n",
       "      <td>0.178750</td>\n",
       "      <td>7.0</td>\n",
       "      <td>0.441860</td>\n",
       "    </tr>\n",
       "    <tr>\n",
       "      <th>6</th>\n",
       "      <td>39</td>\n",
       "      <td>5</td>\n",
       "      <td>1</td>\n",
       "      <td>1</td>\n",
       "      <td>0.133750</td>\n",
       "      <td>-3.0</td>\n",
       "      <td>0.302326</td>\n",
       "    </tr>\n",
       "  </tbody>\n",
       "</table>\n",
       "</div>"
      ],
      "text/plain": [
       "   Age  Rating  Positive Feedback Count  Sentiment  Sentiment_textblob  \\\n",
       "2   60       3                        0          7            0.073675   \n",
       "3   50       5                        0          6            0.550000   \n",
       "4   47       5                        6          6            0.512891   \n",
       "5   49       2                        4          7            0.178750   \n",
       "6   39       5                        1          1            0.133750   \n",
       "\n",
       "   sent_score  Sentiment_Norm  \n",
       "2         5.0        0.441860  \n",
       "3        22.0        0.418605  \n",
       "4         6.0        0.418605  \n",
       "5         7.0        0.441860  \n",
       "6        -3.0        0.302326  "
      ]
     },
     "execution_count": 46,
     "metadata": {},
     "output_type": "execute_result"
    }
   ],
   "source": [
    "from sklearn import preprocessing\n",
    "min_max_scaler = preprocessing.MinMaxScaler()\n",
    "sent_scaled = min_max_scaler.fit_transform(review_data_k_means[['Sentiment']].values)\n",
    "review_data_k_means['Sentiment_Norm'] = sent_scaled\n",
    "review_data_k_means.head()"
   ]
  },
  {
   "cell_type": "code",
   "execution_count": 53,
   "metadata": {},
   "outputs": [
    {
     "data": {
      "text/html": [
       "<div>\n",
       "<style scoped>\n",
       "    .dataframe tbody tr th:only-of-type {\n",
       "        vertical-align: middle;\n",
       "    }\n",
       "\n",
       "    .dataframe tbody tr th {\n",
       "        vertical-align: top;\n",
       "    }\n",
       "\n",
       "    .dataframe thead th {\n",
       "        text-align: right;\n",
       "    }\n",
       "</style>\n",
       "<table border=\"1\" class=\"dataframe\">\n",
       "  <thead>\n",
       "    <tr style=\"text-align: right;\">\n",
       "      <th></th>\n",
       "      <th>Age</th>\n",
       "      <th>Rating</th>\n",
       "      <th>Positive Feedback Count</th>\n",
       "      <th>Sentiment_Norm</th>\n",
       "    </tr>\n",
       "  </thead>\n",
       "  <tbody>\n",
       "    <tr>\n",
       "      <th>2</th>\n",
       "      <td>60</td>\n",
       "      <td>3</td>\n",
       "      <td>0</td>\n",
       "      <td>0.441860</td>\n",
       "    </tr>\n",
       "    <tr>\n",
       "      <th>3</th>\n",
       "      <td>50</td>\n",
       "      <td>5</td>\n",
       "      <td>0</td>\n",
       "      <td>0.418605</td>\n",
       "    </tr>\n",
       "    <tr>\n",
       "      <th>4</th>\n",
       "      <td>47</td>\n",
       "      <td>5</td>\n",
       "      <td>6</td>\n",
       "      <td>0.418605</td>\n",
       "    </tr>\n",
       "    <tr>\n",
       "      <th>5</th>\n",
       "      <td>49</td>\n",
       "      <td>2</td>\n",
       "      <td>4</td>\n",
       "      <td>0.441860</td>\n",
       "    </tr>\n",
       "    <tr>\n",
       "      <th>6</th>\n",
       "      <td>39</td>\n",
       "      <td>5</td>\n",
       "      <td>1</td>\n",
       "      <td>0.302326</td>\n",
       "    </tr>\n",
       "  </tbody>\n",
       "</table>\n",
       "</div>"
      ],
      "text/plain": [
       "   Age  Rating  Positive Feedback Count  Sentiment_Norm\n",
       "2   60       3                        0        0.441860\n",
       "3   50       5                        0        0.418605\n",
       "4   47       5                        6        0.418605\n",
       "5   49       2                        4        0.441860\n",
       "6   39       5                        1        0.302326"
      ]
     },
     "execution_count": 53,
     "metadata": {},
     "output_type": "execute_result"
    }
   ],
   "source": [
    "review_data_k_means.drop('Sentiment',axis=1,inplace=True)\n",
    "review_data_k_means.drop('Sentiment_textblob',axis=1,inplace=True)\n",
    "review_data_k_means.drop('sent_score',axis=1,inplace=True)\n",
    "review_data_k_means.head()"
   ]
  },
  {
   "cell_type": "code",
   "execution_count": 54,
   "metadata": {},
   "outputs": [
    {
     "data": {
      "image/png": "[encoded data removed]",
      "text/plain": [
       "<Figure size 432x288 with 1 Axes>"
      ]
     },
     "metadata": {},
     "output_type": "display_data"
    },
    {
     "data": {
      "image/png": "[encoded data removed]",
      "text/plain": [
       "<Figure size 432x288 with 1 Axes>"
      ]
     },
     "metadata": {},
     "output_type": "display_data"
    },
    {
     "data": {
      "image/png": "[encoded data removed]",
      "text/plain": [
       "<Figure size 432x288 with 1 Axes>"
      ]
     },
     "metadata": {},
     "output_type": "display_data"
    },
    {
     "data": {
      "image/png": "[encoded data removed]",
      "text/plain": [
       "<Figure size 432x288 with 1 Axes>"
      ]
     },
     "metadata": {},
     "output_type": "display_data"
    }
   ],
   "source": [
    "sns.set_style('darkgrid')\n",
    "plt.title('Distribution of Each Column in the Data')\n",
    "\n",
    "for i,col in enumerate(review_data_k_means.columns):\n",
    "    plt.figure(i)\n",
    "    sns.distplot(review_data_k_means[col])"
   ]
  },
  {
   "cell_type": "code",
   "execution_count": 55,
   "metadata": {},
   "outputs": [
    {
     "data": {
      "image/png": "[encoded data removed]",
      "text/plain": [
       "<Figure size 432x288 with 1 Axes>"
      ]
     },
     "metadata": {},
     "output_type": "display_data"
    },
    {
     "data": {
      "image/png": "[encoded data removed]",
      "text/plain": [
       "<Figure size 432x288 with 1 Axes>"
      ]
     },
     "metadata": {},
     "output_type": "display_data"
    },
    {
     "data": {
      "image/png": "[encoded data removed]",
      "text/plain": [
       "<Figure size 432x288 with 1 Axes>"
      ]
     },
     "metadata": {},
     "output_type": "display_data"
    },
    {
     "data": {
      "image/png": "[encoded data removed]",
      "text/plain": [
       "<Figure size 432x288 with 1 Axes>"
      ]
     },
     "metadata": {},
     "output_type": "display_data"
    }
   ],
   "source": [
    "# box cox transform can help with the skewed transformation\n",
    "from scipy.stats import boxcox\n",
    "tmp = review_data_k_means \n",
    "# adding one to each data variable to make it positive\n",
    "tmp = tmp+1\n",
    "for i in tmp.columns:\n",
    "    tmp[i]=np.log(tmp[i])\n",
    "# log modified data    \n",
    "review_data_mod = tmp\n",
    "# checking the distributions after transforming\n",
    "sns.set_style('darkgrid')\n",
    "plt.title('Distribution of Each Column in the Data')\n",
    "\n",
    "for i,col in enumerate(review_data_mod.columns):\n",
    "    plt.figure(i)\n",
    "    sns.distplot(review_data_mod[col])"
   ]
  },
  {
   "cell_type": "code",
   "execution_count": 56,
   "metadata": {},
   "outputs": [],
   "source": [
    "# review_data_mod = review_data_mod[['Age']]\n",
    "\n",
    "from scipy import stats\n",
    "review_data_std = stats.zscore(review_data_mod)\n",
    "review_data_std = np.array(review_data_std)"
   ]
  },
  {
   "cell_type": "code",
   "execution_count": 57,
   "metadata": {},
   "outputs": [
    {
     "data": {
      "text/plain": [
       "array([[ 1.28788845, -0.85018848, -0.86733188,  0.17701117],\n",
       "       [ 0.64583153,  0.65957533, -0.86733188, -0.04207132],\n",
       "       [ 0.42843503,  0.65957533,  1.30802241, -0.04207132],\n",
       "       ...,\n",
       "       [-1.02554011, -0.85018848, -0.09245505, -0.04207132],\n",
       "       [-1.37854069, -0.85018848,  0.36081884, -0.04207132],\n",
       "       [ 0.78376946,  0.65957533,  2.63787149, -0.49122212]])"
      ]
     },
     "execution_count": 57,
     "metadata": {},
     "output_type": "execute_result"
    }
   ],
   "source": [
    "#While doing CLustering, make sure you have: \n",
    " # 1) All data as Numeric Cont\n",
    " # 2) Everything should be of same scale ; not column wise - but complete data wise. \n",
    "\n",
    "review_data_std"
   ]
  },
  {
   "cell_type": "code",
   "execution_count": 58,
   "metadata": {},
   "outputs": [],
   "source": [
    "# to get a good convergence of cluster in below example and to get proper elbow \n",
    "# 1) take higher range ! 5, 150 \n",
    "# 2) do more iterations  ~ 5000 \n",
    "\n",
    "# Simplest approach will be to take just single column to do clusters ; try with both AGE & Sentiment_norm \n",
    "  # go back to zscore code and uncomment the single column selection "
   ]
  },
  {
   "cell_type": "code",
   "execution_count": 59,
   "metadata": {},
   "outputs": [
    {
     "data": {
      "image/png": "[encoded data removed]",
      "text/plain": [
       "<Figure size 432x288 with 1 Axes>"
      ]
     },
     "metadata": {},
     "output_type": "display_data"
    }
   ],
   "source": [
    "import pylab as pl\n",
    "number_of_clusters = range(5,40)\n",
    "kmeans = [KMeans(n_clusters=i,max_iter=1000,random_state=42) for i in number_of_clusters]\n",
    "score = [-1*kmeans[i].fit(review_data_std).score(review_data_std) for i in range(len(kmeans))]\n",
    "pl.plot((number_of_clusters),score)\n",
    "pl.xlabel('Number of Clusters')\n",
    "pl.ylabel('Score')\n",
    "pl.title('Elbow Curve')\n",
    "pl.show()"
   ]
  },
  {
   "cell_type": "code",
   "execution_count": 61,
   "metadata": {},
   "outputs": [],
   "source": [
    "# within the cluster - dosn't include centroid-centroid distance\n",
    "\n",
    "# c1 = Summation of all distance and centroid -  Within the cluster distance \n",
    "# c2 \n",
    "# c3\n",
    "\n",
    "# score = c1 +c2 + c3\n",
    "\n",
    "# when the clusters are good then the value of score will either be zero or close to zero \n",
    "# if the clusters are very bad , then you will get very high values including negative "
   ]
  },
  {
   "cell_type": "code",
   "execution_count": null,
   "metadata": {},
   "outputs": [],
   "source": [
    "# Kmeans object has a predict function\n",
    "\n",
    "# if you send a new data which is similar to data that model is trained on, \n",
    "# k_means_test.predict() will return a cluster number. "
   ]
  }
 ],
 "metadata": {
  "colab": {
   "collapsed_sections": [
    "AXMcpXDLX680",
    "CysX83bCX681",
    "zEXM2lXuX682",
    "l71B4g46X682",
    "LtSmd6bsX685",
    "JXUIAN8TX685",
    "DUciaZNSX686",
    "NAFanUzlX687",
    "wN-Ho1JlX689",
    "xZK1VIGyX68-",
    "pqdpyJjGX68_"
   ],
   "name": "K-Means.ipynb",
   "provenance": []
  },
  "kernelspec": {
   "display_name": "Python 3",
   "language": "python",
   "name": "python3"
  },
  "language_info": {
   "codemirror_mode": {
    "name": "ipython",
    "version": 3
   },
   "file_extension": ".py",
   "mimetype": "text/x-python",
   "name": "python",
   "nbconvert_exporter": "python",
   "pygments_lexer": "ipython3",
   "version": "3.7.3"
  },
  "varInspector": {
   "cols": {
    "lenName": 16,
    "lenType": 16,
    "lenVar": 40
   },
   "kernels_config": {
    "python": {
     "delete_cmd_postfix": "",
     "delete_cmd_prefix": "del ",
     "library": "var_list.py",
     "varRefreshCmd": "print(var_dic_list())"
    },
    "r": {
     "delete_cmd_postfix": ") ",
     "delete_cmd_prefix": "rm(",
     "library": "var_list.r",
     "varRefreshCmd": "cat(var_dic_list()) "
    }
   },
   "types_to_exclude": [
    "module",
    "function",
    "builtin_function_or_method",
    "instance",
    "_Feature"
   ],
   "window_display": false
  }
 },
 "nbformat": 4,
 "nbformat_minor": 1
}
